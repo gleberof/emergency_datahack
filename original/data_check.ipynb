{
 "cells": [
  {
   "cell_type": "code",
   "execution_count": 1,
   "id": "efffe6e6",
   "metadata": {},
   "outputs": [],
   "source": [
    "import pandas as pd"
   ]
  },
  {
   "cell_type": "code",
   "execution_count": 5,
   "id": "034dc1f2",
   "metadata": {},
   "outputs": [],
   "source": [
    "meteo1 = pd.read_csv('../data/track_1/meteo_1day.csv')"
   ]
  },
  {
   "cell_type": "code",
   "execution_count": 6,
   "id": "f1ff8e96",
   "metadata": {},
   "outputs": [],
   "source": [
    "meteo3 = pd.read_csv('../data/track_1/meteo_3hours.csv')"
   ]
  },
  {
   "cell_type": "code",
   "execution_count": 7,
   "id": "a25aee2a",
   "metadata": {},
   "outputs": [
    {
     "data": {
      "text/plain": [
       "Index(['station_id', 'year', 'month', 'day', 'route_type',\n",
       "       'snow_coverage_near_station', 'snow_coverage_route', 'ice_crust_route',\n",
       "       'snow_height_aver', 'snow_height_max', 'snow_height_min',\n",
       "       'snow_density_aver', 'ice_crust_aver', 'snow_saturated_thickness',\n",
       "       'water_thickness', 'water_in_snow', 'water_total',\n",
       "       'snow_coverage_charact', 'snow_charact', 'snow_height',\n",
       "       'snow_coverage_station', 'snow_height_q1', 'snow_height_q2',\n",
       "       'snow_height_q3', 'temperature_20cm', 'temperature_20cm_qual',\n",
       "       'temperature_40cm', 'temperature_40cm_qual', 'temperature_80cm',\n",
       "       'temperature_80cm_qual', 'temperature_120cm', 'temperature_120cm_qual',\n",
       "       'temperature_160cm', 'temperature_160cm_qual', 'temperature_240cm',\n",
       "       'temperature_240cm_qual', 'temperature_320cm', 'temperature_320cm_qual',\n",
       "       'temperature_ks_5cm', 'temperature_ks_5cm_qual', 'temperature_ks_10cm',\n",
       "       'temperature_ks_10cm_qual', 'temperature_ks_15cm',\n",
       "       'temperature_ks_15cm_qual', 'temperature_ks_20cm',\n",
       "       'temperature_ks_20cm_qual', 'date'],\n",
       "      dtype='object')"
      ]
     },
     "execution_count": 7,
     "metadata": {},
     "output_type": "execute_result"
    }
   ],
   "source": [
    "meteo1.columns"
   ]
  },
  {
   "cell_type": "code",
   "execution_count": 8,
   "id": "4d43e4ed",
   "metadata": {},
   "outputs": [
    {
     "data": {
      "text/plain": [
       "Index(['station_id', 'year_GMT', 'month_GMT', 'day_GMT', 'synop_hour_GMT',\n",
       "       'year_local', 'month_local', 'day_local', 'synop_hour_local',\n",
       "       'synop_hour_order_PDZV', 'time_local', 'timezone',\n",
       "       'meteo_day_start_PDZV', 'source_index', 'horizontal_visibility',\n",
       "       'horizontal_visibility_qual', 'horizontal_visibility_qual_1',\n",
       "       'cloud_amount_total', 'cloud_amount_total_qual',\n",
       "       'cloud_amount_low_level', 'cloud_amount_low_level_qual',\n",
       "       'cloud_form_high_level', 'cloud_form_high_level_qual',\n",
       "       'cloud_form_middle_level', 'cloud_form_middle_level_qual',\n",
       "       'cloud_form_vertical_develop', 'cloud_form_vertical_develop_qual',\n",
       "       'cloud_form_strat_stratocum', 'cloud_form_strat_stratocum_qual',\n",
       "       'cloud_form_strat_rain', 'cloud_form_strat_rain_qual',\n",
       "       'cloud_base_altitude', 'cloud_base_altitude_qual',\n",
       "       'cloud_base_altitude_qual_1', 'cloud_below_station',\n",
       "       'cloud_below_station_qual', 'soil_surface_condition',\n",
       "       'soil_surface_condition_qual', 'weather_before', 'weather_before_qual',\n",
       "       'weather', 'weather_qual', 'wind_direction', 'wind_direction_qual',\n",
       "       'wind_speed_aver', 'wind_speed_aver_qual', 'wind_speed_aver_qual_1',\n",
       "       'wind_speed_max', 'wind_speed_max_qual', 'wind_speed_max_qual_1',\n",
       "       'precipitation', 'precipitation_qual', 'soil_surface_temperature',\n",
       "       'soil_surface_temperature_qual', 'soil_surface_alco_temperature',\n",
       "       'soil_surface_alco_temperature_qual',\n",
       "       'soil_surface_temperature_min_before',\n",
       "       'soil_surface_temperature_min_before_qual',\n",
       "       'soil_surface_temperature_max_before',\n",
       "       'soil_surface_temperature_max_before_qual',\n",
       "       'soil_surface_max_temperature', 'soil_surface_max_temperature_qual',\n",
       "       'air_temperature', 'air_temperature_qual', 'air_temperature_wet_bulb',\n",
       "       'air_temperature_wet_bulb_qual', 'air_temperature_wet_bulb_qual_1',\n",
       "       'air_temperature_min_alco_temperature',\n",
       "       'air_temperature_min_alco_temperature_qual',\n",
       "       'air_temperature_min_before', 'air_temperature_min_before_qual',\n",
       "       'air_temperature_max_before', 'air_temperature_max_before_qual',\n",
       "       'air_max_temperature', 'air_max_temperature_qual',\n",
       "       'water_vapour_partial_pressure', 'water_vapour_partial_pressure_qual',\n",
       "       'water_vapour_partial_pressure_qual_1', 'relative_humidity',\n",
       "       'relative_humidity_qual', 'vapour_pressure_deficit',\n",
       "       'vapour_pressure_deficit_qual', 'vapour_pressure_deficit_qual_1',\n",
       "       'dew_point_temperature', 'dew_point_temperature_qual', 'pressure',\n",
       "       'pressure_qual', 'pressure_sea_level', 'pressure_sea_level_qual',\n",
       "       'barometric_tendency_characteristic',\n",
       "       'barometric_tendency_characteristic_qual', 'barometric_tendency',\n",
       "       'barometric_tendency_qual', 'date_local'],\n",
       "      dtype='object')"
      ]
     },
     "execution_count": 8,
     "metadata": {},
     "output_type": "execute_result"
    }
   ],
   "source": [
    "meteo3.columns"
   ]
  },
  {
   "cell_type": "code",
   "execution_count": null,
   "id": "2cee1820",
   "metadata": {},
   "outputs": [],
   "source": []
  }
 ],
 "metadata": {
  "kernelspec": {
   "display_name": "Python 3",
   "language": "python",
   "name": "python3"
  },
  "language_info": {
   "codemirror_mode": {
    "name": "ipython",
    "version": 3
   },
   "file_extension": ".py",
   "mimetype": "text/x-python",
   "name": "python",
   "nbconvert_exporter": "python",
   "pygments_lexer": "ipython3",
   "version": "3.8.6"
  }
 },
 "nbformat": 4,
 "nbformat_minor": 5
}
