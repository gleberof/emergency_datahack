{
 "cells": [
  {
   "cell_type": "code",
   "execution_count": 1,
   "id": "980a79c4",
   "metadata": {},
   "outputs": [],
   "source": [
    "import joblib\n",
    "import pandas as pd\n",
    "\n",
    "from sklearn.preprocessing import LabelEncoder, MinMaxScaler  # feature_range=(-1,1)\n",
    "\n",
    "from src import DATA_DIR, TRACK1_DIR\n",
    "from src.features import features\n",
    "from src.data_loading import fix_df, fix_column, load_table, merge_closest_meteo_to_hydro, merge_tables, add_keys, scale_numerical_features, encode_categorical_features"
   ]
  },
  {
   "cell_type": "code",
   "execution_count": 2,
   "id": "0f29abdb",
   "metadata": {},
   "outputs": [],
   "source": [
    "hydro_1day = load_table(\"hydro_1day.csv\")"
   ]
  },
  {
   "cell_type": "code",
   "execution_count": 3,
   "id": "bccb6e96",
   "metadata": {},
   "outputs": [],
   "source": [
    "data = load_table(\"train.csv\")"
   ]
  },
  {
   "cell_type": "code",
   "execution_count": 4,
   "id": "1a3a107e",
   "metadata": {},
   "outputs": [],
   "source": [
    "meteo_1day = load_table(\"meteo_1day.csv\")"
   ]
  },
  {
   "cell_type": "code",
   "execution_count": 5,
   "id": "fff15e2e",
   "metadata": {},
   "outputs": [],
   "source": [
    "hydro_coord = load_table(\"hydro_coord.csv\")"
   ]
  },
  {
   "cell_type": "code",
   "execution_count": 6,
   "id": "ed9d2e89",
   "metadata": {},
   "outputs": [],
   "source": [
    "meteo_coord = load_table(\"meteo_coord.csv\")"
   ]
  },
  {
   "cell_type": "code",
   "execution_count": 7,
   "id": "ed469504",
   "metadata": {},
   "outputs": [
    {
     "name": "stdout",
     "output_type": "stream",
     "text": [
      "Merging closest stations\n"
     ]
    }
   ],
   "source": [
    "features_df = merge_tables(hydro_1day, meteo_1day, hydro_coord, meteo_coord)"
   ]
  },
  {
   "cell_type": "code",
   "execution_count": 8,
   "id": "72da20c2",
   "metadata": {},
   "outputs": [],
   "source": [
    "features_df = scale_numerical_features(features_df)"
   ]
  },
  {
   "cell_type": "code",
   "execution_count": 9,
   "id": "67a62955",
   "metadata": {},
   "outputs": [],
   "source": [
    "features_df = encode_categorical_features(features_df)"
   ]
  },
  {
   "cell_type": "code",
   "execution_count": 10,
   "id": "cf8a0272",
   "metadata": {},
   "outputs": [],
   "source": [
    "bad_columns = [col for col in features_df.columns if (col.endswith(\"_x\") or col.endswith(\"_y\"))] + [\"hydro_lat_lon\", \"meteo_lat_lon\"]"
   ]
  },
  {
   "cell_type": "code",
   "execution_count": 11,
   "id": "4536c6f9",
   "metadata": {},
   "outputs": [],
   "source": [
    "features_df = features_df.drop(columns=bad_columns)"
   ]
  },
  {
   "cell_type": "code",
   "execution_count": 12,
   "id": "ae9dcfed",
   "metadata": {},
   "outputs": [],
   "source": [
    "features_df.to_csv(DATA_DIR / \"features.csv\")"
   ]
  },
  {
   "cell_type": "code",
   "execution_count": 13,
   "id": "7e479cbe",
   "metadata": {},
   "outputs": [],
   "source": [
    "data.to_csv(DATA_DIR / \"train.csv\")"
   ]
  },
  {
   "cell_type": "code",
   "execution_count": null,
   "id": "52cb5172",
   "metadata": {},
   "outputs": [],
   "source": []
  }
 ],
 "metadata": {
  "kernelspec": {
   "display_name": "Python 3",
   "language": "python",
   "name": "python3"
  },
  "language_info": {
   "codemirror_mode": {
    "name": "ipython",
    "version": 3
   },
   "file_extension": ".py",
   "mimetype": "text/x-python",
   "name": "python",
   "nbconvert_exporter": "python",
   "pygments_lexer": "ipython3",
   "version": "3.8.6"
  }
 },
 "nbformat": 4,
 "nbformat_minor": 5
}
