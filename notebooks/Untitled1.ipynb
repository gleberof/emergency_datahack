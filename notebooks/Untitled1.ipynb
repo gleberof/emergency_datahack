{
 "cells": [
  {
   "cell_type": "code",
   "execution_count": 1,
   "id": "c9c94c3e",
   "metadata": {},
   "outputs": [],
   "source": [
    "from src import DATA_DIR\n",
    "import pandas as pd\n",
    "from datetime import date, timedelta"
   ]
  },
  {
   "cell_type": "code",
   "execution_count": 14,
   "id": "2e4df989",
   "metadata": {},
   "outputs": [],
   "source": [
    "good_df = pd.read_csv(DATA_DIR / \"good_df_val.csv\")\n",
    "def make_full_date(x):\n",
    "    year, day = x\n",
    "    return date(year=year, month=1, day=1) + timedelta(days=day - 1)\n",
    "\n",
    "good_df[\"full_date\"] = good_df[[\"year\", \"day\"]].apply(make_full_date, axis=1)"
   ]
  },
  {
   "cell_type": "code",
   "execution_count": 19,
   "id": "f6eb902a",
   "metadata": {},
   "outputs": [
    {
     "data": {
      "text/plain": [
       "<AxesSubplot:>"
      ]
     },
     "execution_count": 19,
     "metadata": {},
     "output_type": "execute_result"
    },
    {
     "data": {
      "image/png": "[encoded data removed]",
      "text/plain": [
       "<Figure size 432x288 with 1 Axes>"
      ]
     },
     "metadata": {
      "needs_background": "light"
     },
     "output_type": "display_data"
    }
   ],
   "source": [
    "full_df[full_df.year == 2002].day.hist()"
   ]
  },
  {
   "cell_type": "code",
   "execution_count": 9,
   "id": "f12591a6",
   "metadata": {},
   "outputs": [],
   "source": [
    "full_df = pd.read_csv(DATA_DIR / \"features_extra.csv\")\n",
    "def make_full_date(x):\n",
    "    year, day = x\n",
    "    return date(year=year, month=1, day=1) + timedelta(days=day - 1)\n",
    "\n",
    "full_df[\"full_date\"] = full_df[[\"year\", \"day\"]].apply(make_full_date, axis=1)"
   ]
  },
  {
   "cell_type": "code",
   "execution_count": 3,
   "id": "83ff46c1",
   "metadata": {},
   "outputs": [
    {
     "data": {
      "text/plain": [
       "27"
      ]
     },
     "execution_count": 3,
     "metadata": {},
     "output_type": "execute_result"
    }
   ],
   "source": [
    "good_df[\"hydro_station_id\"].nunique()"
   ]
  },
  {
   "cell_type": "code",
   "execution_count": 4,
   "id": "3126ebb4",
   "metadata": {},
   "outputs": [],
   "source": [
    "start_day = date(year=2001, month=10, day=18)\n",
    "end_day = date(year=2002, month=2, day=15)"
   ]
  },
  {
   "cell_type": "code",
   "execution_count": 10,
   "id": "cd0592b1",
   "metadata": {},
   "outputs": [
    {
     "data": {
      "text/plain": [
       "0.49071388503567903"
      ]
     },
     "execution_count": 10,
     "metadata": {},
     "output_type": "execute_result"
    }
   ],
   "source": [
    "(full_df[\"full_date\"] > start_day).mean()"
   ]
  },
  {
   "cell_type": "code",
   "execution_count": 11,
   "id": "ddc27dd8",
   "metadata": {},
   "outputs": [
    {
     "data": {
      "text/plain": [
       "0.5218183478499089"
      ]
     },
     "execution_count": 11,
     "metadata": {},
     "output_type": "execute_result"
    }
   ],
   "source": [
    "(full_df[\"full_date\"] < end_day).mean()"
   ]
  },
  {
   "cell_type": "code",
   "execution_count": 12,
   "id": "1f384b0d",
   "metadata": {},
   "outputs": [
    {
     "data": {
      "text/plain": [
       "0.012749655385337896"
      ]
     },
     "execution_count": 12,
     "metadata": {},
     "output_type": "execute_result"
    }
   ],
   "source": [
    "((full_df[\"full_date\"] >= start_day) & (full_df[\"full_date\"] <= end_day)).mean()"
   ]
  },
  {
   "cell_type": "code",
   "execution_count": 13,
   "id": "741e0b60",
   "metadata": {},
   "outputs": [
    {
     "data": {
      "text/html": [
       "<div>\n",
       "<style scoped>\n",
       "    .dataframe tbody tr th:only-of-type {\n",
       "        vertical-align: middle;\n",
       "    }\n",
       "\n",
       "    .dataframe tbody tr th {\n",
       "        vertical-align: top;\n",
       "    }\n",
       "\n",
       "    .dataframe thead th {\n",
       "        text-align: right;\n",
       "    }\n",
       "</style>\n",
       "<table border=\"1\" class=\"dataframe\">\n",
       "  <thead>\n",
       "    <tr style=\"text-align: right;\">\n",
       "      <th></th>\n",
       "      <th>Unnamed: 0</th>\n",
       "      <th>hydro_fixed_year_numeric</th>\n",
       "      <th>hydro_fixed_year_categorical</th>\n",
       "      <th>hydro_fixed_station_id_categorical</th>\n",
       "      <th>hydro_fixed_month_numeric</th>\n",
       "      <th>hydro_fixed_month_categorical</th>\n",
       "      <th>hydro_fixed_day_numeric</th>\n",
       "      <th>hydro_fixed_day_categorical</th>\n",
       "      <th>hydro_fixed_date_date</th>\n",
       "      <th>hydro_fixed_stage_avg_numeric</th>\n",
       "      <th>...</th>\n",
       "      <th>hydro_fixed_distance_from_source_numeric</th>\n",
       "      <th>hydro_fixed_drainage_area_numeric</th>\n",
       "      <th>hydro_fixed_z_null_numeric</th>\n",
       "      <th>meteo_fixed_lat_numeric</th>\n",
       "      <th>meteo_fixed_lon_numeric</th>\n",
       "      <th>meteo_fixed_z_numeric</th>\n",
       "      <th>year</th>\n",
       "      <th>day</th>\n",
       "      <th>hydro_station_id</th>\n",
       "      <th>full_date</th>\n",
       "    </tr>\n",
       "  </thead>\n",
       "  <tbody>\n",
       "    <tr>\n",
       "      <th>0</th>\n",
       "      <td>0</td>\n",
       "      <td>-0.155792</td>\n",
       "      <td>15</td>\n",
       "      <td>0</td>\n",
       "      <td>-1.604154</td>\n",
       "      <td>0</td>\n",
       "      <td>-1.730834</td>\n",
       "      <td>0</td>\n",
       "      <td>2000-01-01</td>\n",
       "      <td>-0.732542</td>\n",
       "      <td>...</td>\n",
       "      <td>-1.047532</td>\n",
       "      <td>-1.088035</td>\n",
       "      <td>1.846134</td>\n",
       "      <td>-1.403615</td>\n",
       "      <td>-1.470908</td>\n",
       "      <td>0.981845</td>\n",
       "      <td>2000</td>\n",
       "      <td>1</td>\n",
       "      <td>3019</td>\n",
       "      <td>2000-01-01</td>\n",
       "    </tr>\n",
       "    <tr>\n",
       "      <th>1</th>\n",
       "      <td>1</td>\n",
       "      <td>-0.155792</td>\n",
       "      <td>15</td>\n",
       "      <td>0</td>\n",
       "      <td>-1.604154</td>\n",
       "      <td>0</td>\n",
       "      <td>-1.721282</td>\n",
       "      <td>1</td>\n",
       "      <td>2000-01-02</td>\n",
       "      <td>-0.750216</td>\n",
       "      <td>...</td>\n",
       "      <td>-1.047532</td>\n",
       "      <td>-1.088035</td>\n",
       "      <td>1.846134</td>\n",
       "      <td>-1.403615</td>\n",
       "      <td>-1.470908</td>\n",
       "      <td>0.981845</td>\n",
       "      <td>2000</td>\n",
       "      <td>2</td>\n",
       "      <td>3019</td>\n",
       "      <td>2000-01-02</td>\n",
       "    </tr>\n",
       "    <tr>\n",
       "      <th>2</th>\n",
       "      <td>2</td>\n",
       "      <td>-0.155792</td>\n",
       "      <td>15</td>\n",
       "      <td>0</td>\n",
       "      <td>-1.604154</td>\n",
       "      <td>0</td>\n",
       "      <td>-1.711730</td>\n",
       "      <td>2</td>\n",
       "      <td>2000-01-03</td>\n",
       "      <td>-0.763472</td>\n",
       "      <td>...</td>\n",
       "      <td>-1.047532</td>\n",
       "      <td>-1.088035</td>\n",
       "      <td>1.846134</td>\n",
       "      <td>-1.403615</td>\n",
       "      <td>-1.470908</td>\n",
       "      <td>0.981845</td>\n",
       "      <td>2000</td>\n",
       "      <td>3</td>\n",
       "      <td>3019</td>\n",
       "      <td>2000-01-03</td>\n",
       "    </tr>\n",
       "    <tr>\n",
       "      <th>3</th>\n",
       "      <td>3</td>\n",
       "      <td>-0.155792</td>\n",
       "      <td>15</td>\n",
       "      <td>0</td>\n",
       "      <td>-1.604154</td>\n",
       "      <td>0</td>\n",
       "      <td>-1.702178</td>\n",
       "      <td>3</td>\n",
       "      <td>2000-01-04</td>\n",
       "      <td>-0.776728</td>\n",
       "      <td>...</td>\n",
       "      <td>-1.047532</td>\n",
       "      <td>-1.088035</td>\n",
       "      <td>1.846134</td>\n",
       "      <td>-1.403615</td>\n",
       "      <td>-1.470908</td>\n",
       "      <td>0.981845</td>\n",
       "      <td>2000</td>\n",
       "      <td>4</td>\n",
       "      <td>3019</td>\n",
       "      <td>2000-01-04</td>\n",
       "    </tr>\n",
       "    <tr>\n",
       "      <th>4</th>\n",
       "      <td>4</td>\n",
       "      <td>-0.155792</td>\n",
       "      <td>15</td>\n",
       "      <td>0</td>\n",
       "      <td>-1.604154</td>\n",
       "      <td>0</td>\n",
       "      <td>-1.692626</td>\n",
       "      <td>4</td>\n",
       "      <td>2000-01-05</td>\n",
       "      <td>-0.794402</td>\n",
       "      <td>...</td>\n",
       "      <td>-1.047532</td>\n",
       "      <td>-1.088035</td>\n",
       "      <td>1.846134</td>\n",
       "      <td>-1.403615</td>\n",
       "      <td>-1.470908</td>\n",
       "      <td>0.981845</td>\n",
       "      <td>2000</td>\n",
       "      <td>5</td>\n",
       "      <td>3019</td>\n",
       "      <td>2000-01-05</td>\n",
       "    </tr>\n",
       "    <tr>\n",
       "      <th>...</th>\n",
       "      <td>...</td>\n",
       "      <td>...</td>\n",
       "      <td>...</td>\n",
       "      <td>...</td>\n",
       "      <td>...</td>\n",
       "      <td>...</td>\n",
       "      <td>...</td>\n",
       "      <td>...</td>\n",
       "      <td>...</td>\n",
       "      <td>...</td>\n",
       "      <td>...</td>\n",
       "      <td>...</td>\n",
       "      <td>...</td>\n",
       "      <td>...</td>\n",
       "      <td>...</td>\n",
       "      <td>...</td>\n",
       "      <td>...</td>\n",
       "      <td>...</td>\n",
       "      <td>...</td>\n",
       "      <td>...</td>\n",
       "      <td>...</td>\n",
       "    </tr>\n",
       "    <tr>\n",
       "      <th>229962</th>\n",
       "      <td>229962</td>\n",
       "      <td>-0.996970</td>\n",
       "      <td>6</td>\n",
       "      <td>20</td>\n",
       "      <td>0.147028</td>\n",
       "      <td>6</td>\n",
       "      <td>0.246439</td>\n",
       "      <td>207</td>\n",
       "      <td>1991-07-27</td>\n",
       "      <td>-0.237659</td>\n",
       "      <td>...</td>\n",
       "      <td>-0.467853</td>\n",
       "      <td>-0.845760</td>\n",
       "      <td>1.595265</td>\n",
       "      <td>-1.344690</td>\n",
       "      <td>-0.655350</td>\n",
       "      <td>1.265924</td>\n",
       "      <td>1991</td>\n",
       "      <td>208</td>\n",
       "      <td>3106</td>\n",
       "      <td>1991-07-27</td>\n",
       "    </tr>\n",
       "    <tr>\n",
       "      <th>229963</th>\n",
       "      <td>229963</td>\n",
       "      <td>-0.996970</td>\n",
       "      <td>6</td>\n",
       "      <td>20</td>\n",
       "      <td>0.147028</td>\n",
       "      <td>6</td>\n",
       "      <td>0.255991</td>\n",
       "      <td>208</td>\n",
       "      <td>1991-07-28</td>\n",
       "      <td>-0.237659</td>\n",
       "      <td>...</td>\n",
       "      <td>-0.467853</td>\n",
       "      <td>-0.845760</td>\n",
       "      <td>1.595265</td>\n",
       "      <td>-1.344690</td>\n",
       "      <td>-0.655350</td>\n",
       "      <td>1.265924</td>\n",
       "      <td>1991</td>\n",
       "      <td>209</td>\n",
       "      <td>3106</td>\n",
       "      <td>1991-07-28</td>\n",
       "    </tr>\n",
       "    <tr>\n",
       "      <th>229964</th>\n",
       "      <td>229964</td>\n",
       "      <td>-0.996970</td>\n",
       "      <td>6</td>\n",
       "      <td>20</td>\n",
       "      <td>0.147028</td>\n",
       "      <td>6</td>\n",
       "      <td>0.265543</td>\n",
       "      <td>209</td>\n",
       "      <td>1991-07-29</td>\n",
       "      <td>-0.237659</td>\n",
       "      <td>...</td>\n",
       "      <td>-0.467853</td>\n",
       "      <td>-0.845760</td>\n",
       "      <td>1.595265</td>\n",
       "      <td>-1.344690</td>\n",
       "      <td>-0.655350</td>\n",
       "      <td>1.265924</td>\n",
       "      <td>1991</td>\n",
       "      <td>210</td>\n",
       "      <td>3106</td>\n",
       "      <td>1991-07-29</td>\n",
       "    </tr>\n",
       "    <tr>\n",
       "      <th>229965</th>\n",
       "      <td>229965</td>\n",
       "      <td>-0.996970</td>\n",
       "      <td>6</td>\n",
       "      <td>20</td>\n",
       "      <td>0.147028</td>\n",
       "      <td>6</td>\n",
       "      <td>0.275095</td>\n",
       "      <td>210</td>\n",
       "      <td>1991-07-30</td>\n",
       "      <td>-0.237659</td>\n",
       "      <td>...</td>\n",
       "      <td>-0.467853</td>\n",
       "      <td>-0.845760</td>\n",
       "      <td>1.595265</td>\n",
       "      <td>-1.344690</td>\n",
       "      <td>-0.655350</td>\n",
       "      <td>1.265924</td>\n",
       "      <td>1991</td>\n",
       "      <td>211</td>\n",
       "      <td>3106</td>\n",
       "      <td>1991-07-30</td>\n",
       "    </tr>\n",
       "    <tr>\n",
       "      <th>229966</th>\n",
       "      <td>229966</td>\n",
       "      <td>-0.996970</td>\n",
       "      <td>6</td>\n",
       "      <td>20</td>\n",
       "      <td>0.147028</td>\n",
       "      <td>6</td>\n",
       "      <td>0.284647</td>\n",
       "      <td>211</td>\n",
       "      <td>1991-07-31</td>\n",
       "      <td>-0.237659</td>\n",
       "      <td>...</td>\n",
       "      <td>-0.467853</td>\n",
       "      <td>-0.845760</td>\n",
       "      <td>1.595265</td>\n",
       "      <td>-1.344690</td>\n",
       "      <td>-0.655350</td>\n",
       "      <td>1.265924</td>\n",
       "      <td>1991</td>\n",
       "      <td>212</td>\n",
       "      <td>3106</td>\n",
       "      <td>1991-07-31</td>\n",
       "    </tr>\n",
       "  </tbody>\n",
       "</table>\n",
       "<p>229967 rows × 130 columns</p>\n",
       "</div>"
      ],
      "text/plain": [
       "        Unnamed: 0  hydro_fixed_year_numeric  hydro_fixed_year_categorical  \\\n",
       "0                0                 -0.155792                            15   \n",
       "1                1                 -0.155792                            15   \n",
       "2                2                 -0.155792                            15   \n",
       "3                3                 -0.155792                            15   \n",
       "4                4                 -0.155792                            15   \n",
       "...            ...                       ...                           ...   \n",
       "229962      229962                 -0.996970                             6   \n",
       "229963      229963                 -0.996970                             6   \n",
       "229964      229964                 -0.996970                             6   \n",
       "229965      229965                 -0.996970                             6   \n",
       "229966      229966                 -0.996970                             6   \n",
       "\n",
       "        hydro_fixed_station_id_categorical  hydro_fixed_month_numeric  \\\n",
       "0                                        0                  -1.604154   \n",
       "1                                        0                  -1.604154   \n",
       "2                                        0                  -1.604154   \n",
       "3                                        0                  -1.604154   \n",
       "4                                        0                  -1.604154   \n",
       "...                                    ...                        ...   \n",
       "229962                                  20                   0.147028   \n",
       "229963                                  20                   0.147028   \n",
       "229964                                  20                   0.147028   \n",
       "229965                                  20                   0.147028   \n",
       "229966                                  20                   0.147028   \n",
       "\n",
       "        hydro_fixed_month_categorical  hydro_fixed_day_numeric  \\\n",
       "0                                   0                -1.730834   \n",
       "1                                   0                -1.721282   \n",
       "2                                   0                -1.711730   \n",
       "3                                   0                -1.702178   \n",
       "4                                   0                -1.692626   \n",
       "...                               ...                      ...   \n",
       "229962                              6                 0.246439   \n",
       "229963                              6                 0.255991   \n",
       "229964                              6                 0.265543   \n",
       "229965                              6                 0.275095   \n",
       "229966                              6                 0.284647   \n",
       "\n",
       "        hydro_fixed_day_categorical hydro_fixed_date_date  \\\n",
       "0                                 0            2000-01-01   \n",
       "1                                 1            2000-01-02   \n",
       "2                                 2            2000-01-03   \n",
       "3                                 3            2000-01-04   \n",
       "4                                 4            2000-01-05   \n",
       "...                             ...                   ...   \n",
       "229962                          207            1991-07-27   \n",
       "229963                          208            1991-07-28   \n",
       "229964                          209            1991-07-29   \n",
       "229965                          210            1991-07-30   \n",
       "229966                          211            1991-07-31   \n",
       "\n",
       "        hydro_fixed_stage_avg_numeric  ...  \\\n",
       "0                           -0.732542  ...   \n",
       "1                           -0.750216  ...   \n",
       "2                           -0.763472  ...   \n",
       "3                           -0.776728  ...   \n",
       "4                           -0.794402  ...   \n",
       "...                               ...  ...   \n",
       "229962                      -0.237659  ...   \n",
       "229963                      -0.237659  ...   \n",
       "229964                      -0.237659  ...   \n",
       "229965                      -0.237659  ...   \n",
       "229966                      -0.237659  ...   \n",
       "\n",
       "        hydro_fixed_distance_from_source_numeric  \\\n",
       "0                                      -1.047532   \n",
       "1                                      -1.047532   \n",
       "2                                      -1.047532   \n",
       "3                                      -1.047532   \n",
       "4                                      -1.047532   \n",
       "...                                          ...   \n",
       "229962                                 -0.467853   \n",
       "229963                                 -0.467853   \n",
       "229964                                 -0.467853   \n",
       "229965                                 -0.467853   \n",
       "229966                                 -0.467853   \n",
       "\n",
       "        hydro_fixed_drainage_area_numeric  hydro_fixed_z_null_numeric  \\\n",
       "0                               -1.088035                    1.846134   \n",
       "1                               -1.088035                    1.846134   \n",
       "2                               -1.088035                    1.846134   \n",
       "3                               -1.088035                    1.846134   \n",
       "4                               -1.088035                    1.846134   \n",
       "...                                   ...                         ...   \n",
       "229962                          -0.845760                    1.595265   \n",
       "229963                          -0.845760                    1.595265   \n",
       "229964                          -0.845760                    1.595265   \n",
       "229965                          -0.845760                    1.595265   \n",
       "229966                          -0.845760                    1.595265   \n",
       "\n",
       "        meteo_fixed_lat_numeric  meteo_fixed_lon_numeric  \\\n",
       "0                     -1.403615                -1.470908   \n",
       "1                     -1.403615                -1.470908   \n",
       "2                     -1.403615                -1.470908   \n",
       "3                     -1.403615                -1.470908   \n",
       "4                     -1.403615                -1.470908   \n",
       "...                         ...                      ...   \n",
       "229962                -1.344690                -0.655350   \n",
       "229963                -1.344690                -0.655350   \n",
       "229964                -1.344690                -0.655350   \n",
       "229965                -1.344690                -0.655350   \n",
       "229966                -1.344690                -0.655350   \n",
       "\n",
       "        meteo_fixed_z_numeric  year  day  hydro_station_id   full_date  \n",
       "0                    0.981845  2000    1              3019  2000-01-01  \n",
       "1                    0.981845  2000    2              3019  2000-01-02  \n",
       "2                    0.981845  2000    3              3019  2000-01-03  \n",
       "3                    0.981845  2000    4              3019  2000-01-04  \n",
       "4                    0.981845  2000    5              3019  2000-01-05  \n",
       "...                       ...   ...  ...               ...         ...  \n",
       "229962               1.265924  1991  208              3106  1991-07-27  \n",
       "229963               1.265924  1991  209              3106  1991-07-28  \n",
       "229964               1.265924  1991  210              3106  1991-07-29  \n",
       "229965               1.265924  1991  211              3106  1991-07-30  \n",
       "229966               1.265924  1991  212              3106  1991-07-31  \n",
       "\n",
       "[229967 rows x 130 columns]"
      ]
     },
     "execution_count": 13,
     "metadata": {},
     "output_type": "execute_result"
    }
   ],
   "source": [
    "full_df"
   ]
  },
  {
   "cell_type": "code",
   "execution_count": 31,
   "id": "e28c72b1",
   "metadata": {},
   "outputs": [
    {
     "data": {
      "text/plain": [
       "<AxesSubplot:>"
      ]
     },
     "execution_count": 31,
     "metadata": {},
     "output_type": "execute_result"
    },
    {
     "data": {
      "image/png": "[encoded data removed]",
      "text/plain": [
       "<Figure size 432x288 with 1 Axes>"
      ]
     },
     "metadata": {
      "needs_background": "light"
     },
     "output_type": "display_data"
    }
   ],
   "source": [
    "good_df[good_df[\"full_date\"] >= start_day][\"full_date\"].hist()"
   ]
  },
  {
   "cell_type": "code",
   "execution_count": 32,
   "id": "72df915b",
   "metadata": {},
   "outputs": [
    {
     "data": {
      "text/plain": [
       "<AxesSubplot:>"
      ]
     },
     "execution_count": 32,
     "metadata": {},
     "output_type": "execute_result"
    },
    {
     "data": {
      "image/png": "[encoded data removed]",
      "text/plain": [
       "<Figure size 432x288 with 1 Axes>"
      ]
     },
     "metadata": {
      "needs_background": "light"
     },
     "output_type": "display_data"
    }
   ],
   "source": [
    "good_df[good_df[\"full_date\"] <= end_day][\"full_date\"].hist()"
   ]
  },
  {
   "cell_type": "code",
   "execution_count": 28,
   "id": "b3c665b7",
   "metadata": {},
   "outputs": [
    {
     "data": {
      "text/plain": [
       "datetime.date(2000, 4, 5)"
      ]
     },
     "execution_count": 28,
     "metadata": {},
     "output_type": "execute_result"
    }
   ],
   "source": [
    "end_day"
   ]
  },
  {
   "cell_type": "code",
   "execution_count": 29,
   "id": "a6f4afc0",
   "metadata": {},
   "outputs": [
    {
     "data": {
      "text/plain": [
       "datetime.date(1999, 11, 18)"
      ]
     },
     "execution_count": 29,
     "metadata": {},
     "output_type": "execute_result"
    }
   ],
   "source": [
    "start_day"
   ]
  },
  {
   "cell_type": "code",
   "execution_count": null,
   "id": "392603e4",
   "metadata": {},
   "outputs": [],
   "source": []
  }
 ],
 "metadata": {
  "kernelspec": {
   "display_name": "Python 3",
   "language": "python",
   "name": "python3"
  },
  "language_info": {
   "codemirror_mode": {
    "name": "ipython",
    "version": 3
   },
   "file_extension": ".py",
   "mimetype": "text/x-python",
   "name": "python",
   "nbconvert_exporter": "python",
   "pygments_lexer": "ipython3",
   "version": "3.8.6"
  }
 },
 "nbformat": 4,
 "nbformat_minor": 5
}
