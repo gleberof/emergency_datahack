{
 "cells": [
  {
   "cell_type": "code",
   "execution_count": 1,
   "id": "66376c21",
   "metadata": {},
   "outputs": [],
   "source": [
    "import hydra\n",
    "import pandas as pd\n",
    "import pytorch_lightning as pl\n",
    "from optuna.integration import PyTorchLightningPruningCallback\n",
    "from pytorch_lightning.callbacks import EarlyStopping, GPUStatsMonitor, ModelCheckpoint\n",
    "from pytorch_lightning.loggers import TensorBoardLogger\n",
    "\n",
    "from src import DATA_DIR, LOGGING_DIR, MODEL_CHECKPOINTS_DIR, TRACK1_DIR\n",
    "from src.configs import register_configs\n",
    "from src.configs.train import TrainConfig\n",
    "from src.data import LenaDataModule\n",
    "from src.models import LenaTrans\n",
    "from src.system import LenaSystem\n",
    "from src.utils.torch import get_embeddings_projections\n"
   ]
  },
  {
   "cell_type": "code",
   "execution_count": 2,
   "id": "8446b075",
   "metadata": {},
   "outputs": [],
   "source": [
    "def get_datamodule(batch_size, num_workers):\n",
    "    train = pd.read_csv(TRACK1_DIR / \"train.csv\")\n",
    "    test = pd.read_csv(TRACK1_DIR / \"test.csv\")\n",
    "    features_df = pd.read_csv(DATA_DIR / \"features.csv\")\n",
    "    datamodule = LenaDataModule(\n",
    "        train=train, test=test, features_df=features_df, batch_size=batch_size, num_workers=num_workers\n",
    "    )\n",
    "\n",
    "    return datamodule\n",
    "\n",
    "\n",
    "def train(cfg: TrainConfig, trial=None):\n",
    "    logger = TensorBoardLogger(\n",
    "        str(LOGGING_DIR),\n",
    "        name=cfg.name,\n",
    "        version=cfg.version,\n",
    "        log_graph=False,\n",
    "        default_hp_metric=True,\n",
    "    )\n",
    "\n",
    "    checkpoints = ModelCheckpoint(\n",
    "        dirpath=str(MODEL_CHECKPOINTS_DIR / cfg.name),\n",
    "        monitor=\"hp_metric\",\n",
    "        verbose=True,\n",
    "        mode=\"max\",\n",
    "        save_top_k=-1,\n",
    "    )\n",
    "\n",
    "    early_stopping = EarlyStopping(monitor=\"Val/f1_score\", patience=cfg.patience)\n",
    "    if trial:\n",
    "        early_stopping = PyTorchLightningPruningCallback(monitor=\"Val/f1_score\", trial=trial)  # type: ignore\n",
    "\n",
    "    gpu_monitor = GPUStatsMonitor()\n",
    "\n",
    "    datamodule = get_datamodule(batch_size=cfg.batch_size, num_workers=cfg.num_workers)\n",
    "\n",
    "    # trainer\n",
    "    trainer = pl.Trainer(\n",
    "        logger=logger,\n",
    "        callbacks=[gpu_monitor, checkpoints, early_stopping],\n",
    "        profiler=\"simple\",\n",
    "        benchmark=True,\n",
    "        gpus=cfg.gpus,\n",
    "        max_epochs=cfg.max_epochs\n",
    "        # enable_pl_optimizer=True,\n",
    "    )\n",
    "\n",
    "    embeddings_projections = get_embeddings_projections(\n",
    "        categorical_features=datamodule.categorical_features, features_df=datamodule.features_df\n",
    "    )\n",
    "\n",
    "    model = LenaTrans(\n",
    "        cat_features=datamodule.categorical_features,\n",
    "        embeddings_projections=embeddings_projections,\n",
    "        numerical_features=datamodule.numerical_features,\n",
    "        station_col_name=\"hydro_fixed_station_id_categorical\",\n",
    "        day_col_name=\"day_target_categorical\",\n",
    "        rnn_units=cfg.rnn_units,\n",
    "        top_classifier_units=cfg.top_classifier_units,\n",
    "    )\n",
    "\n",
    "    system = LenaSystem(model=model, alpha=cfg.alpha, gamma=cfg.gamma, lr=cfg.lr, weight_decay=cfg.weight_decay)\n",
    "\n",
    "    trainer.fit(system, datamodule=datamodule)\n",
    "\n",
    "    return trainer, system, datamodule"
   ]
  },
  {
   "cell_type": "code",
   "execution_count": 3,
   "id": "5ba5c540",
   "metadata": {},
   "outputs": [],
   "source": [
    "from src.configs.train import TrainConfig"
   ]
  },
  {
   "cell_type": "code",
   "execution_count": 4,
   "id": "34589082",
   "metadata": {},
   "outputs": [],
   "source": [
    "cfg = TrainConfig()"
   ]
  },
  {
   "cell_type": "code",
   "execution_count": null,
   "id": "9b9f527d",
   "metadata": {},
   "outputs": [
    {
     "name": "stderr",
     "output_type": "stream",
     "text": [
      "GPU available: True, used: True\n",
      "TPU available: False, using: 0 TPU cores\n",
      "LOCAL_RANK: 0 - CUDA_VISIBLE_DEVICES: [0]\n",
      "\n",
      "  | Name      | Type                      | Params\n",
      "--------------------------------------------------------\n",
      "0 | model     | LenaTrans                 | 443 K \n",
      "1 | criterion | BinaryFocalLossWithLogits | 0     \n",
      "--------------------------------------------------------\n",
      "443 K     Trainable params\n",
      "0         Non-trainable params\n",
      "443 K     Total params\n",
      "1.772     Total estimated model params size (MB)\n"
     ]
    },
    {
     "data": {
      "application/vnd.jupyter.widget-view+json": {
       "model_id": "",
       "version_major": 2,
       "version_minor": 0
      },
      "text/plain": [
       "Validation sanity check: 0it [00:00, ?it/s]"
      ]
     },
     "metadata": {},
     "output_type": "display_data"
    },
    {
     "name": "stderr",
     "output_type": "stream",
     "text": [
      "/home/dan/.cache/pypoetry/virtualenvs/emergency-hack-xcMZg9e2-py3.8/lib/python3.8/site-packages/sklearn/metrics/_ranking.py:817: RuntimeWarning: invalid value encountered in true_divide\n",
      "  recall = tps / tps[-1]\n",
      "/home/dan/Projects/emergency_datahack/src/utils/torch.py:86: RuntimeWarning: divide by zero encountered in true_divide\n",
      "  F = 2 / (1 / precision + 1 / recall)\n"
     ]
    },
    {
     "data": {
      "application/vnd.jupyter.widget-view+json": {
       "model_id": "d7209d3808ef4632b4a4803ea4ddf46a",
       "version_major": 2,
       "version_minor": 0
      },
      "text/plain": [
       "Training: 0it [00:00, ?it/s]"
      ]
     },
     "metadata": {},
     "output_type": "display_data"
    },
    {
     "data": {
      "application/vnd.jupyter.widget-view+json": {
       "model_id": "c15cba441e2b4422902171d3d8e25ce7",
       "version_major": 2,
       "version_minor": 0
      },
      "text/plain": [
       "Validating: 0it [00:00, ?it/s]"
      ]
     },
     "metadata": {},
     "output_type": "display_data"
    }
   ],
   "source": [
    "datamodule = train(cfg)"
   ]
  },
  {
   "cell_type": "code",
   "execution_count": null,
   "id": "e4616bbe",
   "metadata": {},
   "outputs": [
    {
     "name": "stdout",
     "output_type": "stream",
     "text": [
      "> \u001b[0;32m/home/dan/.cache/pypoetry/virtualenvs/emergency-hack-xcMZg9e2-py3.8/lib/python3.8/site-packages/torch/nn/modules/sparse.py\u001b[0m(137)\u001b[0;36m__init__\u001b[0;34m()\u001b[0m\n",
      "\u001b[0;32m    135 \u001b[0;31m        \u001b[0mself\u001b[0m\u001b[0;34m.\u001b[0m\u001b[0mscale_grad_by_freq\u001b[0m \u001b[0;34m=\u001b[0m \u001b[0mscale_grad_by_freq\u001b[0m\u001b[0;34m\u001b[0m\u001b[0;34m\u001b[0m\u001b[0m\n",
      "\u001b[0m\u001b[0;32m    136 \u001b[0;31m        \u001b[0;32mif\u001b[0m \u001b[0m_weight\u001b[0m \u001b[0;32mis\u001b[0m \u001b[0;32mNone\u001b[0m\u001b[0;34m:\u001b[0m\u001b[0;34m\u001b[0m\u001b[0;34m\u001b[0m\u001b[0m\n",
      "\u001b[0m\u001b[0;32m--> 137 \u001b[0;31m            \u001b[0mself\u001b[0m\u001b[0;34m.\u001b[0m\u001b[0mweight\u001b[0m \u001b[0;34m=\u001b[0m \u001b[0mParameter\u001b[0m\u001b[0;34m(\u001b[0m\u001b[0mtorch\u001b[0m\u001b[0;34m.\u001b[0m\u001b[0mTensor\u001b[0m\u001b[0;34m(\u001b[0m\u001b[0mnum_embeddings\u001b[0m\u001b[0;34m,\u001b[0m \u001b[0membedding_dim\u001b[0m\u001b[0;34m)\u001b[0m\u001b[0;34m)\u001b[0m\u001b[0;34m\u001b[0m\u001b[0;34m\u001b[0m\u001b[0m\n",
      "\u001b[0m\u001b[0;32m    138 \u001b[0;31m            \u001b[0mself\u001b[0m\u001b[0;34m.\u001b[0m\u001b[0mreset_parameters\u001b[0m\u001b[0;34m(\u001b[0m\u001b[0;34m)\u001b[0m\u001b[0;34m\u001b[0m\u001b[0;34m\u001b[0m\u001b[0m\n",
      "\u001b[0m\u001b[0;32m    139 \u001b[0;31m        \u001b[0;32melse\u001b[0m\u001b[0;34m:\u001b[0m\u001b[0;34m\u001b[0m\u001b[0;34m\u001b[0m\u001b[0m\n",
      "\u001b[0m\n",
      "ipdb> u\n",
      "> \u001b[0;32m/home/dan/Projects/emergency_datahack/src/models.py\u001b[0m(181)\u001b[0;36m_create_embedding_projection\u001b[0;34m()\u001b[0m\n",
      "\u001b[0;32m    179 \u001b[0;31m    \u001b[0;32mdef\u001b[0m \u001b[0m_create_embedding_projection\u001b[0m\u001b[0;34m(\u001b[0m\u001b[0mcls\u001b[0m\u001b[0;34m,\u001b[0m \u001b[0mcardinality\u001b[0m\u001b[0;34m,\u001b[0m \u001b[0membed_size\u001b[0m\u001b[0;34m,\u001b[0m \u001b[0madd_missing\u001b[0m\u001b[0;34m=\u001b[0m\u001b[0;32mFalse\u001b[0m\u001b[0;34m,\u001b[0m \u001b[0mpadding_idx\u001b[0m\u001b[0;34m=\u001b[0m\u001b[0;36m0\u001b[0m\u001b[0;34m)\u001b[0m\u001b[0;34m:\u001b[0m\u001b[0;34m\u001b[0m\u001b[0;34m\u001b[0m\u001b[0m\n",
      "\u001b[0m\u001b[0;32m    180 \u001b[0;31m        \u001b[0madd_missing\u001b[0m \u001b[0;34m=\u001b[0m \u001b[0;36m1\u001b[0m \u001b[0;32mif\u001b[0m \u001b[0madd_missing\u001b[0m \u001b[0;32melse\u001b[0m \u001b[0;36m0\u001b[0m\u001b[0;34m\u001b[0m\u001b[0;34m\u001b[0m\u001b[0m\n",
      "\u001b[0m\u001b[0;32m--> 181 \u001b[0;31m        \u001b[0;32mreturn\u001b[0m \u001b[0mnn\u001b[0m\u001b[0;34m.\u001b[0m\u001b[0mEmbedding\u001b[0m\u001b[0;34m(\u001b[0m\u001b[0mnum_embeddings\u001b[0m\u001b[0;34m=\u001b[0m\u001b[0mcardinality\u001b[0m \u001b[0;34m+\u001b[0m \u001b[0madd_missing\u001b[0m\u001b[0;34m,\u001b[0m \u001b[0membedding_dim\u001b[0m\u001b[0;34m=\u001b[0m\u001b[0membed_size\u001b[0m\u001b[0;34m,\u001b[0m \u001b[0mpadding_idx\u001b[0m\u001b[0;34m=\u001b[0m\u001b[0mpadding_idx\u001b[0m\u001b[0;34m)\u001b[0m\u001b[0;34m\u001b[0m\u001b[0;34m\u001b[0m\u001b[0m\n",
      "\u001b[0m\u001b[0;32m    182 \u001b[0;31m\u001b[0;34m\u001b[0m\u001b[0m\n",
      "\u001b[0m\u001b[0;32m    183 \u001b[0;31m\u001b[0;34m\u001b[0m\u001b[0m\n",
      "\u001b[0m\n",
      "ipdb> u\n",
      "> \u001b[0;32m/home/dan/Projects/emergency_datahack/src/models.py\u001b[0m(97)\u001b[0;36m<listcomp>\u001b[0;34m()\u001b[0m\n",
      "\u001b[0;32m     95 \u001b[0;31m        \u001b[0mself\u001b[0m\u001b[0;34m.\u001b[0m\u001b[0mnumerical_features\u001b[0m \u001b[0;34m=\u001b[0m \u001b[0mlist\u001b[0m\u001b[0;34m(\u001b[0m\u001b[0mnumerical_features\u001b[0m\u001b[0;34m)\u001b[0m\u001b[0;34m\u001b[0m\u001b[0;34m\u001b[0m\u001b[0m\n",
      "\u001b[0m\u001b[0;32m     96 \u001b[0;31m        self._transaction_cat_embeddings = nn.ModuleList(\n",
      "\u001b[0m\u001b[0;32m---> 97 \u001b[0;31m            \u001b[0;34m[\u001b[0m\u001b[0mself\u001b[0m\u001b[0;34m.\u001b[0m\u001b[0m_create_embedding_projection\u001b[0m\u001b[0;34m(\u001b[0m\u001b[0;34m*\u001b[0m\u001b[0membeddings_projections\u001b[0m\u001b[0;34m[\u001b[0m\u001b[0mfeature\u001b[0m\u001b[0;34m]\u001b[0m\u001b[0;34m)\u001b[0m \u001b[0;32mfor\u001b[0m \u001b[0mfeature\u001b[0m \u001b[0;32min\u001b[0m \u001b[0mcat_features\u001b[0m\u001b[0;34m]\u001b[0m\u001b[0;34m\u001b[0m\u001b[0;34m\u001b[0m\u001b[0m\n",
      "\u001b[0m\u001b[0;32m     98 \u001b[0;31m        )\n",
      "\u001b[0m\u001b[0;32m     99 \u001b[0;31m\u001b[0;34m\u001b[0m\u001b[0m\n",
      "\u001b[0m\n",
      "ipdb> u\n",
      "> \u001b[0;32m/home/dan/Projects/emergency_datahack/src/models.py\u001b[0m(97)\u001b[0;36m__init__\u001b[0;34m()\u001b[0m\n",
      "\u001b[0;32m     95 \u001b[0;31m        \u001b[0mself\u001b[0m\u001b[0;34m.\u001b[0m\u001b[0mnumerical_features\u001b[0m \u001b[0;34m=\u001b[0m \u001b[0mlist\u001b[0m\u001b[0;34m(\u001b[0m\u001b[0mnumerical_features\u001b[0m\u001b[0;34m)\u001b[0m\u001b[0;34m\u001b[0m\u001b[0;34m\u001b[0m\u001b[0m\n",
      "\u001b[0m\u001b[0;32m     96 \u001b[0;31m        self._transaction_cat_embeddings = nn.ModuleList(\n",
      "\u001b[0m\u001b[0;32m---> 97 \u001b[0;31m            \u001b[0;34m[\u001b[0m\u001b[0mself\u001b[0m\u001b[0;34m.\u001b[0m\u001b[0m_create_embedding_projection\u001b[0m\u001b[0;34m(\u001b[0m\u001b[0;34m*\u001b[0m\u001b[0membeddings_projections\u001b[0m\u001b[0;34m[\u001b[0m\u001b[0mfeature\u001b[0m\u001b[0;34m]\u001b[0m\u001b[0;34m)\u001b[0m \u001b[0;32mfor\u001b[0m \u001b[0mfeature\u001b[0m \u001b[0;32min\u001b[0m \u001b[0mcat_features\u001b[0m\u001b[0;34m]\u001b[0m\u001b[0;34m\u001b[0m\u001b[0;34m\u001b[0m\u001b[0m\n",
      "\u001b[0m\u001b[0;32m     98 \u001b[0;31m        )\n",
      "\u001b[0m\u001b[0;32m     99 \u001b[0;31m\u001b[0;34m\u001b[0m\u001b[0m\n",
      "\u001b[0m\n",
      "ipdb> embeddings_projections\n",
      "{'hydro_fixed_year_categorical': (35, 12), 'hydro_fixed_station_id_categorical_my': (26, 10), 'hydro_fixed_month_categorical_my': (9, 5), 'hydro_fixed_day_categorical': (257, 36), 'hydro_fixed_water_code_0_categorical_my': (2, 2), 'hydro_fixed_water_code_1_categorical_my': (2, 2), 'hydro_fixed_water_code_2_categorical_my': (2, 2), 'hydro_fixed_water_code_3_categorical_my': (2, 2), 'hydro_fixed_water_code_4_categorical_my': (2, 2), 'hydro_fixed_water_code_5_categorical_my': (2, 2), 'hydro_fixed_water_code_6_categorical_my': (2, 2), 'hydro_fixed_water_code_7_categorical_my': (2, 2), 'hydro_fixed_water_code_8_categorical_my': (2, 2), 'hydro_fixed_water_code_9_categorical_my': (2, 2), 'hydro_fixed_water_code_10_categorical_my': (2, 2), 'hydro_fixed_water_code_11_categorical_my': (2, 2), 'hydro_fixed_water_code_12_categorical_my': (2, 2), 'hydro_fixed_water_code_13_categorical_my': (2, 2), 'hydro_fixed_water_code_14_categorical_my': (2, 2), 'hydro_fixed_water_code_15_categorical_my': (2, 2), 'hydro_fixed_water_code_16_categorical_my': (2, 2), 'hydro_fixed_water_code_17_categorical_my': (2, 2), 'hydro_fixed_water_code_18_categorical_my': (1, 2), 'hydro_fixed_water_code_19_categorical_my': (1, 2), 'hydro_fixed_water_code_20_categorical_my': (2, 2), 'hydro_fixed_water_code_21_categorical_my': (2, 2), 'hydro_fixed_water_code_22_categorical_my': (2, 2), 'hydro_fixed_water_code_23_categorical_my': (1, 2), 'hydro_fixed_water_code_24_categorical_my': (1, 2), 'hydro_fixed_water_code_25_categorical_my': (1, 2), 'hydro_fixed_water_code_26_categorical_my': (2, 2), 'hydro_fixed_water_code_27_categorical_my': (2, 2), 'hydro_fixed_water_code_28_categorical_my': (2, 2), 'hydro_fixed_water_code_29_categorical_my': (1, 2), 'hydro_fixed_water_code_30_categorical_my': (1, 2), 'hydro_fixed_water_code_31_categorical_my': (1, 2), 'hydro_fixed_water_code_32_categorical_my': (1, 2), 'hydro_fixed_water_code_33_categorical_my': (2, 2), 'hydro_fixed_water_code_34_categorical_my': (1, 2), 'hydro_fixed_water_code_35_categorical_my': (2, 2), 'hydro_fixed_water_code_36_categorical_my': (1, 2), 'hydro_fixed_water_code_37_categorical_my': (1, 2), 'hydro_fixed_water_code_38_categorical_my': (2, 2), 'hydro_fixed_water_code_39_categorical_my': (1, 2), 'hydro_fixed_water_code_40_categorical_my': (2, 2), 'hydro_fixed_water_code_41_categorical_my': (2, 2), 'hydro_fixed_water_code_42_categorical_my': (1, 2), 'hydro_fixed_water_code_43_categorical_my': (2, 2), 'hydro_fixed_water_code_44_categorical_my': (2, 2), 'hydro_fixed_water_code_45_categorical_my': (2, 2), 'hydro_fixed_water_code_46_categorical_my': (2, 2), 'hydro_fixed_water_code_47_categorical_my': (2, 2), 'hydro_fixed_water_code_48_categorical_my': (2, 2), 'hydro_fixed_water_code_49_categorical_my': (1, 2), 'hydro_fixed_water_code_50_categorical_my': (1, 2), 'hydro_fixed_water_code_51_categorical_my': (2, 2), 'hydro_fixed_place_categorical_my': (4, 3), 'meteo_fixed_station_id_categorical_my': (13, 7), 'meteo_fixed_year_categorical_my': (36, 12), 'meteo_fixed_month_categorical_my': (10, 6), 'meteo_fixed_day_categorical_my': (258, 36), 'meteo_fixed_route_type_categorical_my': (5, 4), 'meteo_fixed_snow_coverage_charact_categorical_my': (11, 6), 'meteo_fixed_snow_charact_categorical_my': (10, 6), 'meteo_fixed_snow_height_q1_categorical_my': (6, 4), 'meteo_fixed_snow_height_q2_categorical_my': (3, 3), 'meteo_fixed_snow_height_q3_categorical_my': (3, 3), 'meteo_fixed_temperature_20cm_qual_categorical_my': (6, 4), 'meteo_fixed_temperature_40cm_qual_categorical_my': (7, 5), 'meteo_fixed_temperature_80cm_qual_categorical_my': (8, 5), 'meteo_fixed_temperature_120cm_qual_categorical_my': (7, 5), 'meteo_fixed_temperature_160cm_qual_categorical_my': (7, 5), 'meteo_fixed_temperature_240cm_qual_categorical_my': (8, 5), 'meteo_fixed_temperature_320cm_qual_categorical_my': (7, 5), 'meteo_fixed_temperature_ks_5cm_qual_categorical_my': (4, 3), 'meteo_fixed_temperature_ks_10cm_qual_categorical_my': (4, 3), 'meteo_fixed_temperature_ks_15cm_qual_categorical_my': (4, 3), 'meteo_fixed_temperature_ks_20cm_qual_categorical_my': (4, 3), 'hydro_fixed_station_id_categorical_pred': (24.0, 9), 'hydro_fixed_water_code_0_categorical_pred': (2.0, 2), 'hydro_fixed_water_code_1_categorical_pred': (2.0, 2), 'hydro_fixed_water_code_2_categorical_pred': (2.0, 2), 'hydro_fixed_water_code_3_categorical_pred': (2.0, 2), 'hydro_fixed_water_code_4_categorical_pred': (2.0, 2), 'hydro_fixed_water_code_5_categorical_pred': (2.0, 2), 'hydro_fixed_water_code_6_categorical_pred': (1.0, 2), 'hydro_fixed_water_code_7_categorical_pred': (2.0, 2), 'hydro_fixed_water_code_8_categorical_pred': (2.0, 2), 'hydro_fixed_water_code_9_categorical_pred': (2.0, 2), 'hydro_fixed_water_code_10_categorical_pred': (1.0, 2), 'hydro_fixed_water_code_11_categorical_pred': (2.0, 2), 'hydro_fixed_water_code_12_categorical_pred': (2.0, 2), 'hydro_fixed_water_code_13_categorical_pred': (2.0, 2), 'hydro_fixed_water_code_14_categorical_pred': (2.0, 2), 'hydro_fixed_water_code_15_categorical_pred': (2.0, 2), 'hydro_fixed_water_code_16_categorical_pred': (1.0, 2), 'hydro_fixed_water_code_17_categorical_pred': (2.0, 2), 'hydro_fixed_water_code_18_categorical_pred': (1.0, 2), 'hydro_fixed_water_code_19_categorical_pred': (1.0, 2), 'hydro_fixed_water_code_20_categorical_pred': (2.0, 2), 'hydro_fixed_water_code_21_categorical_pred': (1.0, 2), 'hydro_fixed_water_code_22_categorical_pred': (2.0, 2), 'hydro_fixed_water_code_23_categorical_pred': (1.0, 2), 'hydro_fixed_water_code_24_categorical_pred': (1.0, 2), 'hydro_fixed_water_code_25_categorical_pred': (1.0, 2), 'hydro_fixed_water_code_26_categorical_pred': (2.0, 2), 'hydro_fixed_water_code_27_categorical_pred': (1.0, 2), 'hydro_fixed_water_code_28_categorical_pred': (2.0, 2), 'hydro_fixed_water_code_29_categorical_pred': (1.0, 2), 'hydro_fixed_water_code_30_categorical_pred': (1.0, 2), 'hydro_fixed_water_code_31_categorical_pred': (1.0, 2), 'hydro_fixed_water_code_32_categorical_pred': (1.0, 2), 'hydro_fixed_water_code_33_categorical_pred': (2.0, 2), 'hydro_fixed_water_code_34_categorical_pred': (1.0, 2), 'hydro_fixed_water_code_35_categorical_pred': (2.0, 2), 'hydro_fixed_water_code_36_categorical_pred': (1.0, 2), 'hydro_fixed_water_code_37_categorical_pred': (1.0, 2), 'hydro_fixed_water_code_38_categorical_pred': (1.0, 2), 'hydro_fixed_water_code_39_categorical_pred': (1.0, 2), 'hydro_fixed_water_code_40_categorical_pred': (2.0, 2), 'hydro_fixed_water_code_41_categorical_pred': (2.0, 2), 'hydro_fixed_water_code_42_categorical_pred': (1.0, 2), 'hydro_fixed_water_code_43_categorical_pred': (2.0, 2), 'hydro_fixed_water_code_44_categorical_pred': (1.0, 2), 'hydro_fixed_water_code_45_categorical_pred': (1.0, 2), 'hydro_fixed_water_code_46_categorical_pred': (1.0, 2), 'hydro_fixed_water_code_47_categorical_pred': (2.0, 2), 'hydro_fixed_water_code_48_categorical_pred': (2.0, 2), 'hydro_fixed_water_code_49_categorical_pred': (1.0, 2), 'hydro_fixed_water_code_50_categorical_pred': (1.0, 2), 'hydro_fixed_water_code_51_categorical_pred': (1.0, 2), 'hydro_fixed_place_categorical_pred': (4.0, 3), 'meteo_fixed_station_id_categorical_pred': (7.0, 5), 'meteo_fixed_route_type_categorical_pred': (4.0, 3), 'meteo_fixed_snow_coverage_charact_categorical_pred': (10.0, 6), 'meteo_fixed_snow_charact_categorical_pred': (9.0, 5), 'meteo_fixed_snow_height_q1_categorical_pred': (5.0, 4), 'meteo_fixed_snow_height_q2_categorical_pred': (1.0, 2), 'meteo_fixed_snow_height_q3_categorical_pred': (2.0, 2), 'meteo_fixed_temperature_20cm_qual_categorical_pred': (5.0, 4), 'meteo_fixed_temperature_40cm_qual_categorical_pred': (6.0, 4), 'meteo_fixed_temperature_80cm_qual_categorical_pred': (7.0, 5), 'meteo_fixed_temperature_120cm_qual_categorical_pred': (6.0, 4), 'meteo_fixed_temperature_160cm_qual_categorical_pred': (6.0, 4), 'meteo_fixed_temperature_240cm_qual_categorical_pred': (7.0, 5), 'meteo_fixed_temperature_320cm_qual_categorical_pred': (6.0, 4), 'meteo_fixed_temperature_ks_5cm_qual_categorical_pred': (3.0, 3), 'meteo_fixed_temperature_ks_10cm_qual_categorical_pred': (3.0, 3), 'meteo_fixed_temperature_ks_15cm_qual_categorical_pred': (3.0, 3), 'meteo_fixed_temperature_ks_20cm_qual_categorical_pred': (3.0, 3), 'day_target_categorical': (367, 44)}\n"
     ]
    }
   ],
   "source": [
    "%debug"
   ]
  },
  {
   "cell_type": "code",
   "execution_count": 16,
   "id": "c41827c2",
   "metadata": {},
   "outputs": [],
   "source": [
    "train_dl = datamodule.train_dataloader()"
   ]
  },
  {
   "cell_type": "code",
   "execution_count": null,
   "id": "08351a39",
   "metadata": {},
   "outputs": [],
   "source": []
  },
  {
   "cell_type": "code",
   "execution_count": 17,
   "id": "32d3d8f6",
   "metadata": {},
   "outputs": [
    {
     "ename": "IndexError",
     "evalue": "Caught IndexError in DataLoader worker process 0.\nOriginal Traceback (most recent call last):\n  File \"/home/dan/.cache/pypoetry/virtualenvs/emergency-hack-xcMZg9e2-py3.8/lib/python3.8/site-packages/torch/utils/data/_utils/worker.py\", line 202, in _worker_loop\n    data = fetcher.fetch(index)\n  File \"/home/dan/.cache/pypoetry/virtualenvs/emergency-hack-xcMZg9e2-py3.8/lib/python3.8/site-packages/torch/utils/data/_utils/fetch.py\", line 44, in fetch\n    data = [self.dataset[idx] for idx in possibly_batched_index]\n  File \"/home/dan/.cache/pypoetry/virtualenvs/emergency-hack-xcMZg9e2-py3.8/lib/python3.8/site-packages/torch/utils/data/_utils/fetch.py\", line 44, in <listcomp>\n    data = [self.dataset[idx] for idx in possibly_batched_index]\n  File \"/home/dan/Projects/emergency_datahack/src/data.py\", line 120, in __getitem__\n    encoded_station_id = self.full_df[features_mask][\"hydro_fixed_station_id_categorical\"].values[0]\nIndexError: index 0 is out of bounds for axis 0 with size 0\n",
     "output_type": "error",
     "traceback": [
      "\u001b[0;31m---------------------------------------------------------------------------\u001b[0m",
      "\u001b[0;31mIndexError\u001b[0m                                Traceback (most recent call last)",
      "\u001b[0;32m<ipython-input-17-ca2706f895f4>\u001b[0m in \u001b[0;36m<module>\u001b[0;34m\u001b[0m\n\u001b[0;32m----> 1\u001b[0;31m \u001b[0;32mfor\u001b[0m \u001b[0mbatch\u001b[0m \u001b[0;32min\u001b[0m \u001b[0mtrain_dl\u001b[0m\u001b[0;34m:\u001b[0m\u001b[0;34m\u001b[0m\u001b[0;34m\u001b[0m\u001b[0m\n\u001b[0m\u001b[1;32m      2\u001b[0m     \u001b[0;32mpass\u001b[0m\u001b[0;34m\u001b[0m\u001b[0;34m\u001b[0m\u001b[0m\n",
      "\u001b[0;32m~/.cache/pypoetry/virtualenvs/emergency-hack-xcMZg9e2-py3.8/lib/python3.8/site-packages/torch/utils/data/dataloader.py\u001b[0m in \u001b[0;36m__next__\u001b[0;34m(self)\u001b[0m\n\u001b[1;32m    515\u001b[0m             \u001b[0;32mif\u001b[0m \u001b[0mself\u001b[0m\u001b[0;34m.\u001b[0m\u001b[0m_sampler_iter\u001b[0m \u001b[0;32mis\u001b[0m \u001b[0;32mNone\u001b[0m\u001b[0;34m:\u001b[0m\u001b[0;34m\u001b[0m\u001b[0;34m\u001b[0m\u001b[0m\n\u001b[1;32m    516\u001b[0m                 \u001b[0mself\u001b[0m\u001b[0;34m.\u001b[0m\u001b[0m_reset\u001b[0m\u001b[0;34m(\u001b[0m\u001b[0;34m)\u001b[0m\u001b[0;34m\u001b[0m\u001b[0;34m\u001b[0m\u001b[0m\n\u001b[0;32m--> 517\u001b[0;31m             \u001b[0mdata\u001b[0m \u001b[0;34m=\u001b[0m \u001b[0mself\u001b[0m\u001b[0;34m.\u001b[0m\u001b[0m_next_data\u001b[0m\u001b[0;34m(\u001b[0m\u001b[0;34m)\u001b[0m\u001b[0;34m\u001b[0m\u001b[0;34m\u001b[0m\u001b[0m\n\u001b[0m\u001b[1;32m    518\u001b[0m             \u001b[0mself\u001b[0m\u001b[0;34m.\u001b[0m\u001b[0m_num_yielded\u001b[0m \u001b[0;34m+=\u001b[0m \u001b[0;36m1\u001b[0m\u001b[0;34m\u001b[0m\u001b[0;34m\u001b[0m\u001b[0m\n\u001b[1;32m    519\u001b[0m             \u001b[0;32mif\u001b[0m \u001b[0mself\u001b[0m\u001b[0;34m.\u001b[0m\u001b[0m_dataset_kind\u001b[0m \u001b[0;34m==\u001b[0m \u001b[0m_DatasetKind\u001b[0m\u001b[0;34m.\u001b[0m\u001b[0mIterable\u001b[0m \u001b[0;32mand\u001b[0m\u001b[0;31m \u001b[0m\u001b[0;31m\\\u001b[0m\u001b[0;34m\u001b[0m\u001b[0;34m\u001b[0m\u001b[0m\n",
      "\u001b[0;32m~/.cache/pypoetry/virtualenvs/emergency-hack-xcMZg9e2-py3.8/lib/python3.8/site-packages/torch/utils/data/dataloader.py\u001b[0m in \u001b[0;36m_next_data\u001b[0;34m(self)\u001b[0m\n\u001b[1;32m   1197\u001b[0m             \u001b[0;32melse\u001b[0m\u001b[0;34m:\u001b[0m\u001b[0;34m\u001b[0m\u001b[0;34m\u001b[0m\u001b[0m\n\u001b[1;32m   1198\u001b[0m                 \u001b[0;32mdel\u001b[0m \u001b[0mself\u001b[0m\u001b[0;34m.\u001b[0m\u001b[0m_task_info\u001b[0m\u001b[0;34m[\u001b[0m\u001b[0midx\u001b[0m\u001b[0;34m]\u001b[0m\u001b[0;34m\u001b[0m\u001b[0;34m\u001b[0m\u001b[0m\n\u001b[0;32m-> 1199\u001b[0;31m                 \u001b[0;32mreturn\u001b[0m \u001b[0mself\u001b[0m\u001b[0;34m.\u001b[0m\u001b[0m_process_data\u001b[0m\u001b[0;34m(\u001b[0m\u001b[0mdata\u001b[0m\u001b[0;34m)\u001b[0m\u001b[0;34m\u001b[0m\u001b[0;34m\u001b[0m\u001b[0m\n\u001b[0m\u001b[1;32m   1200\u001b[0m \u001b[0;34m\u001b[0m\u001b[0m\n\u001b[1;32m   1201\u001b[0m     \u001b[0;32mdef\u001b[0m \u001b[0m_try_put_index\u001b[0m\u001b[0;34m(\u001b[0m\u001b[0mself\u001b[0m\u001b[0;34m)\u001b[0m\u001b[0;34m:\u001b[0m\u001b[0;34m\u001b[0m\u001b[0;34m\u001b[0m\u001b[0m\n",
      "\u001b[0;32m~/.cache/pypoetry/virtualenvs/emergency-hack-xcMZg9e2-py3.8/lib/python3.8/site-packages/torch/utils/data/dataloader.py\u001b[0m in \u001b[0;36m_process_data\u001b[0;34m(self, data)\u001b[0m\n\u001b[1;32m   1223\u001b[0m         \u001b[0mself\u001b[0m\u001b[0;34m.\u001b[0m\u001b[0m_try_put_index\u001b[0m\u001b[0;34m(\u001b[0m\u001b[0;34m)\u001b[0m\u001b[0;34m\u001b[0m\u001b[0;34m\u001b[0m\u001b[0m\n\u001b[1;32m   1224\u001b[0m         \u001b[0;32mif\u001b[0m \u001b[0misinstance\u001b[0m\u001b[0;34m(\u001b[0m\u001b[0mdata\u001b[0m\u001b[0;34m,\u001b[0m \u001b[0mExceptionWrapper\u001b[0m\u001b[0;34m)\u001b[0m\u001b[0;34m:\u001b[0m\u001b[0;34m\u001b[0m\u001b[0;34m\u001b[0m\u001b[0m\n\u001b[0;32m-> 1225\u001b[0;31m             \u001b[0mdata\u001b[0m\u001b[0;34m.\u001b[0m\u001b[0mreraise\u001b[0m\u001b[0;34m(\u001b[0m\u001b[0;34m)\u001b[0m\u001b[0;34m\u001b[0m\u001b[0;34m\u001b[0m\u001b[0m\n\u001b[0m\u001b[1;32m   1226\u001b[0m         \u001b[0;32mreturn\u001b[0m \u001b[0mdata\u001b[0m\u001b[0;34m\u001b[0m\u001b[0;34m\u001b[0m\u001b[0m\n\u001b[1;32m   1227\u001b[0m \u001b[0;34m\u001b[0m\u001b[0m\n",
      "\u001b[0;32m~/.cache/pypoetry/virtualenvs/emergency-hack-xcMZg9e2-py3.8/lib/python3.8/site-packages/torch/_utils.py\u001b[0m in \u001b[0;36mreraise\u001b[0;34m(self)\u001b[0m\n\u001b[1;32m    427\u001b[0m             \u001b[0;31m# have message field\u001b[0m\u001b[0;34m\u001b[0m\u001b[0;34m\u001b[0m\u001b[0;34m\u001b[0m\u001b[0m\n\u001b[1;32m    428\u001b[0m             \u001b[0;32mraise\u001b[0m \u001b[0mself\u001b[0m\u001b[0;34m.\u001b[0m\u001b[0mexc_type\u001b[0m\u001b[0;34m(\u001b[0m\u001b[0mmessage\u001b[0m\u001b[0;34m=\u001b[0m\u001b[0mmsg\u001b[0m\u001b[0;34m)\u001b[0m\u001b[0;34m\u001b[0m\u001b[0;34m\u001b[0m\u001b[0m\n\u001b[0;32m--> 429\u001b[0;31m         \u001b[0;32mraise\u001b[0m \u001b[0mself\u001b[0m\u001b[0;34m.\u001b[0m\u001b[0mexc_type\u001b[0m\u001b[0;34m(\u001b[0m\u001b[0mmsg\u001b[0m\u001b[0;34m)\u001b[0m\u001b[0;34m\u001b[0m\u001b[0;34m\u001b[0m\u001b[0m\n\u001b[0m\u001b[1;32m    430\u001b[0m \u001b[0;34m\u001b[0m\u001b[0m\n\u001b[1;32m    431\u001b[0m \u001b[0;34m\u001b[0m\u001b[0m\n",
      "\u001b[0;31mIndexError\u001b[0m: Caught IndexError in DataLoader worker process 0.\nOriginal Traceback (most recent call last):\n  File \"/home/dan/.cache/pypoetry/virtualenvs/emergency-hack-xcMZg9e2-py3.8/lib/python3.8/site-packages/torch/utils/data/_utils/worker.py\", line 202, in _worker_loop\n    data = fetcher.fetch(index)\n  File \"/home/dan/.cache/pypoetry/virtualenvs/emergency-hack-xcMZg9e2-py3.8/lib/python3.8/site-packages/torch/utils/data/_utils/fetch.py\", line 44, in fetch\n    data = [self.dataset[idx] for idx in possibly_batched_index]\n  File \"/home/dan/.cache/pypoetry/virtualenvs/emergency-hack-xcMZg9e2-py3.8/lib/python3.8/site-packages/torch/utils/data/_utils/fetch.py\", line 44, in <listcomp>\n    data = [self.dataset[idx] for idx in possibly_batched_index]\n  File \"/home/dan/Projects/emergency_datahack/src/data.py\", line 120, in __getitem__\n    encoded_station_id = self.full_df[features_mask][\"hydro_fixed_station_id_categorical\"].values[0]\nIndexError: index 0 is out of bounds for axis 0 with size 0\n"
     ]
    }
   ],
   "source": [
    "for batch in train_dl:\n",
    "    pass"
   ]
  },
  {
   "cell_type": "code",
   "execution_count": 18,
   "id": "a0716750",
   "metadata": {},
   "outputs": [
    {
     "name": "stdout",
     "output_type": "stream",
     "text": [
      "> \u001b[0;32m/home/dan/.cache/pypoetry/virtualenvs/emergency-hack-xcMZg9e2-py3.8/lib/python3.8/site-packages/torch/_utils.py\u001b[0m(429)\u001b[0;36mreraise\u001b[0;34m()\u001b[0m\n",
      "\u001b[0;32m    427 \u001b[0;31m            \u001b[0;31m# have message field\u001b[0m\u001b[0;34m\u001b[0m\u001b[0;34m\u001b[0m\u001b[0;34m\u001b[0m\u001b[0m\n",
      "\u001b[0m\u001b[0;32m    428 \u001b[0;31m            \u001b[0;32mraise\u001b[0m \u001b[0mself\u001b[0m\u001b[0;34m.\u001b[0m\u001b[0mexc_type\u001b[0m\u001b[0;34m(\u001b[0m\u001b[0mmessage\u001b[0m\u001b[0;34m=\u001b[0m\u001b[0mmsg\u001b[0m\u001b[0;34m)\u001b[0m\u001b[0;34m\u001b[0m\u001b[0;34m\u001b[0m\u001b[0m\n",
      "\u001b[0m\u001b[0;32m--> 429 \u001b[0;31m        \u001b[0;32mraise\u001b[0m \u001b[0mself\u001b[0m\u001b[0;34m.\u001b[0m\u001b[0mexc_type\u001b[0m\u001b[0;34m(\u001b[0m\u001b[0mmsg\u001b[0m\u001b[0;34m)\u001b[0m\u001b[0;34m\u001b[0m\u001b[0;34m\u001b[0m\u001b[0m\n",
      "\u001b[0m\u001b[0;32m    430 \u001b[0;31m\u001b[0;34m\u001b[0m\u001b[0m\n",
      "\u001b[0m\u001b[0;32m    431 \u001b[0;31m\u001b[0;34m\u001b[0m\u001b[0m\n",
      "\u001b[0m\n",
      "ipdb> q\n"
     ]
    }
   ],
   "source": [
    "%debug"
   ]
  },
  {
   "cell_type": "code",
   "execution_count": null,
   "id": "e43ca9f3",
   "metadata": {},
   "outputs": [],
   "source": []
  }
 ],
 "metadata": {
  "kernelspec": {
   "display_name": "Python 3",
   "language": "python",
   "name": "python3"
  },
  "language_info": {
   "codemirror_mode": {
    "name": "ipython",
    "version": 3
   },
   "file_extension": ".py",
   "mimetype": "text/x-python",
   "name": "python",
   "nbconvert_exporter": "python",
   "pygments_lexer": "ipython3",
   "version": "3.8.6"
  }
 },
 "nbformat": 4,
 "nbformat_minor": 5
}
