{
  "nbformat": 4,
  "nbformat_minor": 0,
  "metadata": {
    "colab": {
      "name": "emerhack_eda.ipynb",
      "provenance": [],
      "collapsed_sections": [],
      "authorship_tag": "ABX9TyPC8fJEzM2uTTHRZQzlOHwX",
      "include_colab_link": true
    },
    "kernelspec": {
      "name": "python3",
      "display_name": "Python 3"
    },
    "language_info": {
      "name": "python"
    }
  },
  "cells": [
    {
      "cell_type": "markdown",
      "metadata": {
        "id": "view-in-github",
        "colab_type": "text"
      },
      "source": [
        "<a href=\"https://colab.research.google.com/github/gleberof/emergency_datahack/blob/main/notebooks/emerhack_eda.ipynb\" target=\"_parent\"><img src=\"https://colab.research.google.com/assets/colab-badge.svg\" alt=\"Open In Colab\"/></a>"
      ]
    },
    {
      "cell_type": "code",
      "metadata": {
        "colab": {
          "base_uri": "https://localhost:8080/"
        },
        "id": "YH3122cWE8Yd",
        "outputId": "5526975f-f177-48e2-b307-0d0cb9d1c968"
      },
      "source": [
        "#https://drive.google.com/file/d/1NXHAAHDdQ9iO4OUFEuYgQegYU56s2Myb/view?usp=sharing\n",
        "\n",
        "!curl -c ./cookie -s -L \"https://drive.google.com/uc?export=download&id=1NXHAAHDdQ9iO4OUFEuYgQegYU56s2Myb\" > /dev/null\n",
        "!curl -Lb ./cookie \"https://drive.google.com/uc?export=download&confirm=`awk '/download/ {print $NF}' ./cookie`&id=1NXHAAHDdQ9iO4OUFEuYgQegYU56s2Myb\" -o smpl.zip\n",
        "!unzip -qq smpl.zip\n"
      ],
      "execution_count": null,
      "outputs": [
        {
          "output_type": "stream",
          "text": [
            "  % Total    % Received % Xferd  Average Speed   Time    Time     Time  Current\n",
            "                                 Dload  Upload   Total   Spent    Left  Speed\n",
            "100   408    0   408    0     0   1805      0 --:--:-- --:--:-- --:--:--  1805\n",
            "  0     0    0     0    0     0      0      0 --:--:-- --:--:-- --:--:--     0\n",
            "  0     0    0     0    0     0      0      0 --:--:-- --:--:-- --:--:--     0\n",
            "100  8975  100  8975    0     0  21167      0 --:--:-- --:--:-- --:--:-- 21167\n"
          ],
          "name": "stdout"
        }
      ]
    },
    {
      "cell_type": "code",
      "metadata": {
        "colab": {
          "base_uri": "https://localhost:8080/"
        },
        "id": "SfZyvZNVFUqY",
        "outputId": "e605a19b-fd98-48d0-8f75-3cdc933d4d61"
      },
      "source": [
        "!head track_1/train_sample.csv -n 5"
      ],
      "execution_count": null,
      "outputs": [
        {
          "output_type": "stream",
          "text": [
            "year,station_id,day,ice_jam\n",
            "1991,3030,27,0.0\n",
            "1992,3019,21,0.0\n",
            "1998,3028,36,0.0\n",
            "2008,3045,41,0.0\n"
          ],
          "name": "stdout"
        }
      ]
    },
    {
      "cell_type": "code",
      "metadata": {
        "colab": {
          "base_uri": "https://localhost:8080/"
        },
        "id": "cp_9_lwzFaKd",
        "outputId": "600122e1-423d-4c40-885f-90b4c2bdc1c2"
      },
      "source": [
        "!head track_1/hydro_1day_sample.csv -n 5"
      ],
      "execution_count": null,
      "outputs": [
        {
          "output_type": "stream",
          "text": [
            "year,station_id,month,day,date,stage_avg,stage_min,stage_max,temp,water_code,ice_thickness,snow_height,place,discharge\n",
            "2006,3036,11,334,2006-11-30,322.0,319.0,325.0,0.0,16,23.0,17.0,1.0,2000.0\n",
            "2012,3042,11,335,2012-11-30,212.0,212.0,212.0,0.0,46,56.0,12.0,1.0,1950.0\n",
            "2019,3036,11,324,2019-11-20,221.0,203.0,239.0,0.0,46,18.0,5.0,1.0,2110.0\n",
            "2012,3106,11,335,2012-11-30,220.0,220.0,220.0,0.0,46,45.0,24.0,1.0,314.0\n"
          ],
          "name": "stdout"
        }
      ]
    },
    {
      "cell_type": "code",
      "metadata": {
        "colab": {
          "base_uri": "https://localhost:8080/"
        },
        "id": "lEHNX1QBJtUe",
        "outputId": "73f572b9-e53e-44ae-f6e9-c61519b2675d"
      },
      "source": [
        "!cat track_1/hydro_1day_sample.csv | wc -l"
      ],
      "execution_count": null,
      "outputs": [
        {
          "output_type": "stream",
          "text": [
            "21\n"
          ],
          "name": "stdout"
        }
      ]
    },
    {
      "cell_type": "code",
      "metadata": {
        "colab": {
          "base_uri": "https://localhost:8080/"
        },
        "id": "mxXi36g5JyHk",
        "outputId": "94438254-723b-44b4-bf9d-bef2ce7d26e4"
      },
      "source": [
        "!head track_1/ice_saw_sample.csv"
      ],
      "execution_count": null,
      "outputs": [
        {
          "output_type": "stream",
          "text": [
            "date,place,name,lat,lon\n",
            "2011-04-27,Олёкминск,\"Ослабление прочности льда на р.Лена в Олекминском улусе, Республика Саха (Якутия)\",60.38333333333333,120.43333333333334\n",
            "2017-03-21,Сангар,\"Ослабление прочности льда на р.Лена в Кобяйском улусе, Республика Саха (Якутия)\",63.929444444444435,127.48527777777778\n",
            "2018-04-06,Олекминск,\"Ослабление прочности льда на р. Токко в Олекминском улусе, Республика Саха (Якутия) \",59.3025,119.65666666666668\n",
            "2016-04-06,Олёкминск,\"Ослабление прочности льда на р. Токко в Олекминском улусе, Республики Саха (Якутия)\",59.3025,119.65666666666668\n",
            "2015-04-13,Саха Якутия,\"Ослабление прочности льда на р.Лена в Намском улусе, Республика Саха (Якутия)\",62.72416666666667,131.1858333333333\n",
            "2015-03-21,Саха Якутия,\"Ослабление прочности льда на р. Лена в Ленском улусе, Республика Саха (Якутия)\",60.74388888888889,116.94861111111112\n",
            "2015-04-06,Саха Якутия,\"Ослабление прочности льда на р. Колыма в Среднеколымском улусе, Республика Саха (Якутия)\",67.4875,156.60944444444445\n",
            "2020-04-09,Якутск,\"Ослабление прочности льда на р. Лена в в районе г. Якутск, Республика Саха (Якутия)\",62.02722222222222,129.73194444444445\n",
            "2017-03-26,Сангар,\"Ослабление прочности льда на р.Лена в Кобяйском улусе, Республика Саха (Якутия)\",63.929444444444435,127.48527777777778\n"
          ],
          "name": "stdout"
        }
      ]
    },
    {
      "cell_type": "code",
      "metadata": {
        "colab": {
          "base_uri": "https://localhost:8080/"
        },
        "id": "Sq7_vVA7KZVp",
        "outputId": "5dd3e0b8-eb76-49a3-eade-2c74a857eb27"
      },
      "source": [
        "!head track_1/test_sample.csv"
      ],
      "execution_count": null,
      "outputs": [
        {
          "output_type": "stream",
          "text": [
            "year,station_id,day,ice_jam\n",
            "1997,3045,4,\n",
            "2003,3050,39,\n",
            "2001,3028,25,\n",
            "2005,3028,35,\n",
            "1997,3230,43,\n",
            "2003,3035,22,\n",
            "2012,3019,35,\n",
            "2005,3027,16,\n",
            "1997,3019,14,\n"
          ],
          "name": "stdout"
        }
      ]
    },
    {
      "cell_type": "code",
      "metadata": {
        "colab": {
          "base_uri": "https://localhost:8080/"
        },
        "id": "KxtbxgXUKg-s",
        "outputId": "53602ed7-93aa-42ce-e950-4909f16fa26a"
      },
      "source": [
        "import pandas as pd\n",
        "train = pd.read_csv('track_1/train_sample.csv')\n",
        "test = pd.read_csv('track_1/test_sample.csv')\n",
        "print(train.shape, test.shape, \n",
        "      train.station_id.unique().shape, \n",
        "      test.station_id.unique().shape,\n",
        "      train['ice_jam'].unique()\n",
        "      )"
      ],
      "execution_count": null,
      "outputs": [
        {
          "output_type": "stream",
          "text": [
            "(20, 4) (20, 4) (10,) (8,) [0.]\n"
          ],
          "name": "stdout"
        }
      ]
    },
    {
      "cell_type": "code",
      "metadata": {
        "colab": {
          "base_uri": "https://localhost:8080/"
        },
        "id": "oR_82668K7Pv",
        "outputId": "cfda04ce-ad0e-450f-c6c8-21f60801bb49"
      },
      "source": [
        "!head track_1/reference_horiz_visib_sample.csv"
      ],
      "execution_count": null,
      "outputs": [
        {
          "output_type": "stream",
          "text": [
            "code,km\n",
            "73,23\n",
            "22,2.2\n",
            "77,27\n",
            "78,28\n",
            "0,< 0.1\n",
            "26,2.6\n",
            "40,4.0\n",
            "42,4.2\n",
            "10,1.0\n"
          ],
          "name": "stdout"
        }
      ]
    },
    {
      "cell_type": "code",
      "metadata": {
        "colab": {
          "base_uri": "https://localhost:8080/"
        },
        "id": "P336sTHwLJwO",
        "outputId": "d1a6b634-1a9b-4c6b-9ffb-83759e417bb1"
      },
      "source": [
        "!head track_1/meteo_3hours_sample.csv"
      ],
      "execution_count": null,
      "outputs": [
        {
          "output_type": "stream",
          "text": [
            "station_id,year_GMT,month_GMT,day_GMT,synop_hour_GMT,year_local,month_local,day_local,synop_hour_local,synop_hour_order_PDZV,time_local,timezone,meteo_day_start_PDZV,source_index,horizontal_visibility,horizontal_visibility_qual,horizontal_visibility_qual_1,cloud_amount_total,cloud_amount_total_qual,cloud_amount_low_level,cloud_amount_low_level_qual,cloud_form_high_level,cloud_form_high_level_qual,cloud_form_middle_level,cloud_form_middle_level_qual,cloud_form_vertical_develop,cloud_form_vertical_develop_qual,cloud_form_strat_stratocum,cloud_form_strat_stratocum_qual,cloud_form_strat_rain,cloud_form_strat_rain_qual,cloud_base_altitude,cloud_base_altitude_qual,cloud_base_altitude_qual_1,cloud_below_station,cloud_below_station_qual,soil_surface_condition,soil_surface_condition_qual,weather_before,weather_before_qual,weather,weather_qual,wind_direction,wind_direction_qual,wind_speed_aver,wind_speed_aver_qual,wind_speed_aver_qual_1,wind_speed_max,wind_speed_max_qual,wind_speed_max_qual_1,precipitation,precipitation_qual,soil_surface_temperature,soil_surface_temperature_qual,soil_surface_alco_temperature,soil_surface_alco_temperature_qual,soil_surface_temperature_min_before,soil_surface_temperature_min_before_qual,soil_surface_temperature_max_before,soil_surface_temperature_max_before_qual,soil_surface_max_temperature,soil_surface_max_temperature_qual,air_temperature,air_temperature_qual,air_temperature_wet_bulb,air_temperature_wet_bulb_qual,air_temperature_wet_bulb_qual_1,air_temperature_min_alco_temperature,air_temperature_min_alco_temperature_qual,air_temperature_min_before,air_temperature_min_before_qual,air_temperature_max_before,air_temperature_max_before_qual,air_max_temperature,air_max_temperature_qual,water_vapour_partial_pressure,water_vapour_partial_pressure_qual,water_vapour_partial_pressure_qual_1,relative_humidity,relative_humidity_qual,vapour_pressure_deficit,vapour_pressure_deficit_qual,vapour_pressure_deficit_qual_1,dew_point_temperature,dew_point_temperature_qual,pressure,pressure_qual,pressure_sea_level,pressure_sea_level_qual,barometric_tendency_characteristic,barometric_tendency_characteristic_qual,barometric_tendency,barometric_tendency_qual,date_local\n",
            "24538,1985,7,7,0,1985,7,188,3,4,9,8,21,4,71.0,0,0.0,10.0,0,10.0,0,8.0,0,8.0,0,2.0,0,0.0,0,0.0,0,600.0,0,1.0,0.0,7,1.0,0,8.0,0,80.0,0,0.0,0,0.0,0,0,8.0,0,0,0.6,0,8.0,0,8.0,0,8.0,0,8.3,0,8.0,0,7.6,0,7.2,0,0,7.6,0,7.6,0,9.0,0,7.6,0,9.8,0,1,94.0,0,0.6,0,1,6.7,0,980.2,0,996.8,0,7.0,0,1.0,0,1985-07-07\n",
            "24538,1985,7,23,0,1985,7,204,3,4,9,8,21,4,81.0,0,0.0,10.0,0,6.0,0,1.0,0,0.0,0,2.0,0,0.0,0,0.0,0,700.0,0,1.0,0.0,7,0.0,0,8.0,0,80.0,0,320.0,0,1.0,0,0,4.0,0,0,0.0,0,19.0,0,19.0,0,12.8,0,19.1,0,19.1,0,16.8,0,14.4,0,0,16.8,0,12.0,0,16.9,0,16.9,0,14.5,0,1,76.0,0,4.6,0,1,12.5,0,990.5,0,1006.7,0,8.0,0,0.7,0,1985-07-23\n",
            "24538,1985,7,29,0,1985,7,210,3,4,9,8,21,4,81.0,0,0.0,10.0,0,10.0,0,8.0,0,8.0,0,2.0,0,2.0,0,0.0,0,700.0,0,1.0,0.0,7,0.0,0,8.0,0,80.0,0,40.0,0,4.0,0,0,8.0,0,0,0.0,0,9.5,0,9.5,0,9.5,0,9.7,0,9.5,0,8.0,0,7.5,0,0,8.0,0,8.0,0,9.0,0,8.0,0,10.0,0,1,93.0,0,0.7,0,1,7.0,0,998.4,0,1015.3,0,2.0,0,1.6,0,1985-07-29\n",
            "24538,1985,8,8,0,1985,8,220,3,4,9,8,21,4,74.0,0,0.0,10.0,0,10.0,0,8.0,0,8.0,0,2.0,0,0.0,0,0.0,0,700.0,0,1.0,0.0,7,1.0,0,8.0,0,81.0,0,315.0,0,1.0,0,0,5.0,0,0,1.4,0,11.0,0,11.0,0,10.5,0,11.0,0,11.0,0,10.5,0,10.4,0,0,10.6,0,10.6,0,10.9,0,10.6,0,12.5,0,1,98.0,0,0.2,0,1,10.3,0,988.6,0,1005.2,0,2.0,0,1.7,0,1985-08-08\n",
            "24538,1985,8,19,0,1985,8,231,3,4,9,8,21,4,78.0,0,0.0,12.0,0,12.0,0,0.0,0,0.0,0,2.0,0,0.0,0,0.0,0,600.0,0,1.0,0.0,7,1.0,0,2.0,0,81.0,0,40.0,0,4.0,0,0,8.0,0,0,0.7,0,15.3,0,15.3,0,11.5,0,15.3,0,15.3,0,14.0,0,13.3,0,0,14.0,0,13.3,0,14.0,0,14.0,0,14.7,0,1,92.0,0,1.3,0,1,12.7,0,991.3,0,1007.7,0,7.0,0,0.3,0,1985-08-19\n",
            "24538,1985,9,1,0,1985,9,244,3,4,9,8,21,4,72.0,0,0.0,10.0,0,10.0,0,8.0,0,8.0,0,2.0,0,0.0,0,0.0,0,600.0,0,1.0,0.0,7,1.0,0,8.0,0,81.0,0,270.0,0,5.0,0,0,9.0,0,0,1.6,0,10.4,0,10.4,0,9.3,0,10.4,0,10.4,0,11.3,0,10.7,0,0,11.3,0,11.3,0,11.3,0,11.3,0,12.4,0,1,93.0,0,1.0,0,1,10.2,0,971.5,0,987.7,0,7.0,0,2.4,0,1985-09-01\n",
            "24538,1985,10,9,0,1985,10,282,3,4,9,8,21,4,58.0,0,0.0,10.0,0,10.0,0,8.0,0,8.0,0,2.0,0,0.0,0,0.0,0,600.0,0,1.0,0.0,7,7.0,0,8.0,0,86.0,0,310.0,0,2.0,0,0,6.0,0,0,0.2,0,-5.2,0,-5.2,0,-5.2,0,-5.2,0,-5.2,0,-4.7,0,-4.9,0,1,-4.7,0,-4.8,0,-4.7,0,-4.7,0,3.91,0,2,91.0,0,0.4,0,2,-6.0,0,1001.3,0,1019.1,0,2.0,0,1.9,0,1985-10-09\n",
            "24538,1985,10,27,0,1985,10,300,3,4,9,8,21,4,67.0,0,0.0,10.0,0,10.0,0,8.0,0,8.0,0,2.0,0,2.0,0,0.0,0,600.0,0,1.0,0.0,7,7.0,0,8.0,0,85.0,0,110.0,0,1.0,0,0,3.0,0,0,0.6,0,-8.7,0,-8.7,0,-9.2,0,-8.6,0,-8.7,0,-9.8,0,-9.7,0,1,-9.8,0,-10.0,0,-9.7,0,-9.8,0,2.74,0,2,94.0,0,0.17,0,2,-10.6,0,991.8,0,1009.7,0,7.0,0,0.3,0,1985-10-27\n",
            "24538,1986,8,11,0,1986,8,223,3,4,9,8,21,4,74.0,0,0.0,10.0,0,2.0,0,8.0,0,2.0,0,0.0,0,2.0,0,0.0,0,1100.0,0,1.0,0.0,7,1.0,0,6.0,0,61.0,0,330.0,0,1.0,0,0,2.0,0,0,5.8,0,14.7,0,14.7,0,13.6,0,14.9,0,14.9,0,15.7,0,14.8,0,0,15.7,0,14.1,0,15.8,0,15.8,0,16.1,0,1,90.0,0,1.7,0,1,14.1,0,980.9,0,997.0,0,3.0,0,0.3,0,1986-08-11\n"
          ],
          "name": "stdout"
        }
      ]
    },
    {
      "cell_type": "code",
      "metadata": {
        "colab": {
          "base_uri": "https://localhost:8080/"
        },
        "id": "PfNi5SLdLRuO",
        "outputId": "8985101b-1c81-4c4e-e04d-aa43be3c0f71"
      },
      "source": [
        "import os\n",
        "_, _, filenames = next(os.walk('./track_1/'))\n",
        "filenames"
      ],
      "execution_count": null,
      "outputs": [
        {
          "output_type": "execute_result",
          "data": {
            "text/plain": [
              "['ice_saw_sample.csv',\n",
              " 'train_sample.csv',\n",
              " 'reference_water_codes_sample.csv',\n",
              " 'meteo_3hours_sample.csv',\n",
              " 'meteo_1month_sample.csv',\n",
              " 'hydro_coord_sample.csv',\n",
              " 'meteo_1day_sample.csv',\n",
              " 'meteo_coord_sample.csv',\n",
              " 'hydro_1day_sample.csv',\n",
              " 'test_sample.csv',\n",
              " 'reference_horiz_visib_sample.csv']"
            ]
          },
          "metadata": {
            "tags": []
          },
          "execution_count": 16
        }
      ]
    },
    {
      "cell_type": "code",
      "metadata": {
        "colab": {
          "base_uri": "https://localhost:8080/"
        },
        "id": "908rXjgbNwoc",
        "outputId": "25fc46ee-a938-4d73-c3d4-5e48a7833ded"
      },
      "source": [
        "hydro_df = pd.read_csv('track_1/hydro_1day_sample.csv')\n",
        "hydro_df.columns"
      ],
      "execution_count": null,
      "outputs": [
        {
          "output_type": "execute_result",
          "data": {
            "text/plain": [
              "Index(['year', 'station_id', 'month', 'day', 'date', 'stage_avg', 'stage_min',\n",
              "       'stage_max', 'temp', 'water_code', 'ice_thickness', 'snow_height',\n",
              "       'place', 'discharge'],\n",
              "      dtype='object')"
            ]
          },
          "metadata": {
            "tags": []
          },
          "execution_count": 18
        }
      ]
    },
    {
      "cell_type": "code",
      "metadata": {
        "colab": {
          "base_uri": "https://localhost:8080/"
        },
        "id": "JKqo-VjFOAw6",
        "outputId": "9be83023-1853-48e6-c5da-149e2e4e9042"
      },
      "source": [
        "hydro_df.water_code"
      ],
      "execution_count": null,
      "outputs": [
        {
          "output_type": "execute_result",
          "data": {
            "text/plain": [
              "0        16\n",
              "1        46\n",
              "2        46\n",
              "3        46\n",
              "4        46\n",
              "5        16\n",
              "6        16\n",
              "7     14,46\n",
              "8        46\n",
              "9        15\n",
              "10       46\n",
              "11       16\n",
              "12       46\n",
              "13       15\n",
              "14       16\n",
              "15       16\n",
              "16       16\n",
              "17       15\n",
              "18       15\n",
              "19       46\n",
              "Name: water_code, dtype: object"
            ]
          },
          "metadata": {
            "tags": []
          },
          "execution_count": 19
        }
      ]
    },
    {
      "cell_type": "code",
      "metadata": {
        "colab": {
          "base_uri": "https://localhost:8080/"
        },
        "id": "5vV--p8oOM1f",
        "outputId": "56899672-c1ce-4c52-ceed-d04ebbd6f54b"
      },
      "source": [
        "!cat track_1/reference_water_codes_sample.csv"
      ],
      "execution_count": null,
      "outputs": [
        {
          "output_type": "stream",
          "text": [
            "water_code,descr,group,phase\n",
            "20,Лед на дне,,ледостав (зима)\n",
            "42,Зажор ниже поста,,замерзание (осень)\n",
            "50,Период ледостава (коды самостоятельного значения не имеют),,ледостав (зима)\n",
            "13,Плавучий лед,,замерзание (осень)\n",
            "46,Ледостав с торосами,,ледостав (зима)\n",
            "6,Редкая снежура,,замерзание (осень)\n",
            "18,Наледь,,ледостав (зима)\n",
            "53,Течение реки изменилось на противоположное,,не лед\n",
            "4,Редкий шугоход,,замерзание (осень)\n",
            "33,Стоячая вода,,не лед\n",
            "14,Подо льдом шуга,,ледостав (зима)\n",
            "9,\"Средний, густой ледоход\",ледоход,вскрытие (весна)\n",
            "27,Навалы льда,последствия ледохода,вскрытие (весна)\n",
            "7,\"Средняя, густая снежура\",,замерзание (осень)\n",
            "35,Искажение уровня и стока воды искусственными явлениями,,не лед\n",
            "5,\"Средний, густой шугоход\",,замерзание (осень)\n",
            "38,Естественные или искусственные деформации русла,,не лед\n",
            "25,Подвижка льда,подвижка льда,вскрытие (весна)\n",
            "47,Вода на льду (стоячая),,вскрытие (весна)\n",
            "34,Искажение уровня и стока воды естественными явлениями,,не лед\n"
          ],
          "name": "stdout"
        }
      ]
    },
    {
      "cell_type": "code",
      "metadata": {
        "id": "vmK4RviBOTpB"
      },
      "source": [
        ""
      ],
      "execution_count": null,
      "outputs": []
    }
  ]
}